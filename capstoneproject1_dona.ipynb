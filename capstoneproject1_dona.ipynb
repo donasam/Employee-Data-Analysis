{
 "cells": [
  {
   "cell_type": "code",
   "execution_count": 188,
   "metadata": {},
   "outputs": [],
   "source": [
    "from pyspark.sql import SparkSession\n",
    "\n",
    "spark = (SparkSession.builder.appName(\"Capstone\")\\\n",
    "         .config(\"hive.metastore.uris\",\"thrift://ip-10-1-2-24.ap-south-1.compute.internal:9083\")\\\n",
    "         .enableHiveSupport().getOrCreate())"
   ]
  },
  {
   "cell_type": "code",
   "execution_count": 189,
   "metadata": {},
   "outputs": [
    {
     "data": {
      "text/html": [
       "\n",
       "            <div>\n",
       "                <p><b>SparkSession - hive</b></p>\n",
       "                \n",
       "        <div>\n",
       "            <p><b>SparkContext</b></p>\n",
       "\n",
       "            <p><a href=\"http://ip-10-1-1-204.ap-south-1.compute.internal:43009\">Spark UI</a></p>\n",
       "\n",
       "            <dl>\n",
       "              <dt>Version</dt>\n",
       "                <dd><code>v2.4.0</code></dd>\n",
       "              <dt>Master</dt>\n",
       "                <dd><code>local[*]</code></dd>\n",
       "              <dt>AppName</dt>\n",
       "                <dd><code>Capstone</code></dd>\n",
       "            </dl>\n",
       "        </div>\n",
       "        \n",
       "            </div>\n",
       "        "
      ],
      "text/plain": [
       "<pyspark.sql.session.SparkSession at 0x7f8426e15190>"
      ]
     },
     "execution_count": 189,
     "metadata": {},
     "output_type": "execute_result"
    }
   ],
   "source": [
    "spark"
   ]
  },
  {
   "cell_type": "code",
   "execution_count": 190,
   "metadata": {},
   "outputs": [],
   "source": [
    "#d_Department_Employees                                                                                                                         \n",
    "#d_Department_Managers                                                                                                                           \n",
    "#d_Departments                                                                                                                          \n",
    "#d_Employees                                                                                                                                   \n",
    "#d_Salaries                                                                                                                               \n",
    "#d_Titles     "
   ]
  },
  {
   "cell_type": "code",
   "execution_count": 191,
   "metadata": {},
   "outputs": [],
   "source": [
    "dept_m = spark.sql(\"select * from donaalab.d_department_managers\")"
   ]
  },
  {
   "cell_type": "code",
   "execution_count": 192,
   "metadata": {},
   "outputs": [
    {
     "name": "stdout",
     "output_type": "stream",
     "text": [
      "+-------+------+\n",
      "|dept_no|emp_no|\n",
      "+-------+------+\n",
      "|   d001|110022|\n",
      "|   d001|110039|\n",
      "|   d002|110085|\n",
      "|   d002|110114|\n",
      "|   d003|110183|\n",
      "|   d003|110228|\n",
      "|   d004|110303|\n",
      "|   d004|110344|\n",
      "|   d004|110386|\n",
      "|   d004|110420|\n",
      "|   d005|110511|\n",
      "|   d005|110567|\n",
      "|   d006|110725|\n",
      "|   d006|110765|\n",
      "|   d006|110800|\n",
      "|   d006|110854|\n",
      "|   d007|111035|\n",
      "|   d007|111133|\n",
      "|   d008|111400|\n",
      "|   d008|111534|\n",
      "+-------+------+\n",
      "only showing top 20 rows\n",
      "\n"
     ]
    }
   ],
   "source": [
    "dept_m.show()"
   ]
  },
  {
   "cell_type": "code",
   "execution_count": 193,
   "metadata": {},
   "outputs": [],
   "source": [
    "dept_emp = spark.sql(\"select * from donaalab.d_department_employees\")"
   ]
  },
  {
   "cell_type": "code",
   "execution_count": 194,
   "metadata": {},
   "outputs": [
    {
     "name": "stdout",
     "output_type": "stream",
     "text": [
      "+------+-------+\n",
      "|emp_no|dept_no|\n",
      "+------+-------+\n",
      "| 10001|   d005|\n",
      "| 10002|   d007|\n",
      "| 10003|   d004|\n",
      "| 10004|   d004|\n",
      "| 10005|   d003|\n",
      "| 10006|   d005|\n",
      "| 10007|   d008|\n",
      "| 10008|   d005|\n",
      "| 10009|   d006|\n",
      "| 10010|   d004|\n",
      "| 10010|   d006|\n",
      "| 10011|   d009|\n",
      "| 10012|   d005|\n",
      "| 10013|   d003|\n",
      "| 10014|   d005|\n",
      "| 10015|   d008|\n",
      "| 10016|   d007|\n",
      "| 10017|   d001|\n",
      "| 10018|   d004|\n",
      "| 10018|   d005|\n",
      "+------+-------+\n",
      "only showing top 20 rows\n",
      "\n"
     ]
    }
   ],
   "source": [
    "dept_emp.show()"
   ]
  },
  {
   "cell_type": "code",
   "execution_count": 195,
   "metadata": {},
   "outputs": [],
   "source": [
    "depts = spark.sql(\"select * from donaalab.d_departments\")"
   ]
  },
  {
   "cell_type": "code",
   "execution_count": 196,
   "metadata": {},
   "outputs": [
    {
     "name": "stdout",
     "output_type": "stream",
     "text": [
      "+-------+--------------------+\n",
      "|dept_no|           dept_name|\n",
      "+-------+--------------------+\n",
      "|   d001|         \"Marketing\"|\n",
      "|   d002|           \"Finance\"|\n",
      "|   d003|   \"Human Resources\"|\n",
      "|   d004|        \"Production\"|\n",
      "|   d005|       \"development\"|\n",
      "|   d006|\"Quality Management\"|\n",
      "|   d007|             \"Sales\"|\n",
      "|   d008|          \"Research\"|\n",
      "|   d009|  \"Customer Service\"|\n",
      "+-------+--------------------+\n",
      "\n"
     ]
    }
   ],
   "source": [
    "depts.show()"
   ]
  },
  {
   "cell_type": "code",
   "execution_count": 197,
   "metadata": {},
   "outputs": [],
   "source": [
    "emps = spark.sql(\"select * from donaalab.d_employees\")"
   ]
  },
  {
   "cell_type": "code",
   "execution_count": 198,
   "metadata": {},
   "outputs": [
    {
     "name": "stdout",
     "output_type": "stream",
     "text": [
      "+------+------------+----------+----------+----------+---+----------+--------------+-----------------------+-----+----------+\n",
      "|emp_no|emp_title_id|birth_date|first_name| last_name|sex| hire_date|no_of_projects|last_performance_rating|left1| last_date|\n",
      "+------+------------+----------+----------+----------+---+----------+--------------+-----------------------+-----+----------+\n",
      "|\n",
      "|\n",
      "|\n",
      "|\n",
      "|\n",
      "|\n",
      "|\n",
      "|\n",
      "|\n",
      "|\n",
      "|\n",
      "|\n",
      "|\n",
      "|\n",
      "|\n",
      "|\n",
      "|\n",
      "|\n",
      "|\n",
      "|\n",
      "+------+------------+----------+----------+----------+---+----------+--------------+-----------------------+-----+----------+\n",
      "only showing top 20 rows\n",
      "\n"
     ]
    }
   ],
   "source": [
    "emps.show()"
   ]
  },
  {
   "cell_type": "code",
   "execution_count": 199,
   "metadata": {},
   "outputs": [],
   "source": [
    "sal = spark.sql(\"select * from donaalab.d_salaries\")"
   ]
  },
  {
   "cell_type": "code",
   "execution_count": 200,
   "metadata": {},
   "outputs": [
    {
     "name": "stdout",
     "output_type": "stream",
     "text": [
      "+------+------+\n",
      "|emp_no|salary|\n",
      "+------+------+\n",
      "| 10001| 60117|\n",
      "| 10002| 65828|\n",
      "| 10003| 40006|\n",
      "| 10004| 40054|\n",
      "| 10005| 78228|\n",
      "| 10006| 40000|\n",
      "| 10007| 56724|\n",
      "| 10008| 46671|\n",
      "| 10009| 60929|\n",
      "| 10010| 72488|\n",
      "| 10011| 42365|\n",
      "| 10012| 40000|\n",
      "| 10013| 40000|\n",
      "| 10014| 46168|\n",
      "| 10015| 40000|\n",
      "| 10016| 70889|\n",
      "| 10017| 71380|\n",
      "| 10018| 55881|\n",
      "| 10019| 44276|\n",
      "| 10020| 40000|\n",
      "+------+------+\n",
      "only showing top 20 rows\n",
      "\n"
     ]
    }
   ],
   "source": [
    "sal.show()"
   ]
  },
  {
   "cell_type": "code",
   "execution_count": 201,
   "metadata": {},
   "outputs": [],
   "source": [
    "ti = spark.sql(\"select * from donaalab.d_titles\")"
   ]
  },
  {
   "cell_type": "code",
   "execution_count": 202,
   "metadata": {},
   "outputs": [
    {
     "name": "stdout",
     "output_type": "stream",
     "text": [
      "+--------+------------------+\n",
      "|title_id|             title|\n",
      "+--------+------------------+\n",
      "|   s0001|             Staff|\n",
      "|   s0002|      Senior Staff|\n",
      "|   e0001|Assistant Engineer|\n",
      "|   e0002|          Engineer|\n",
      "|   e0003|   Senior Engineer|\n",
      "|   e0004|  Technique Leader|\n",
      "|   m0001|           Manager|\n",
      "+--------+------------------+\n",
      "\n"
     ]
    }
   ],
   "source": [
    "ti.show()"
   ]
  },
  {
   "cell_type": "code",
   "execution_count": 203,
   "metadata": {},
   "outputs": [],
   "source": [
    "employee_date = spark.sql(\"\"\"select * from donaalab.employee_date\"\"\")"
   ]
  },
  {
   "cell_type": "code",
   "execution_count": 204,
   "metadata": {},
   "outputs": [],
   "source": [
    "employee_date.createOrReplaceTempView(\"empdate\")"
   ]
  },
  {
   "cell_type": "code",
   "execution_count": 205,
   "metadata": {},
   "outputs": [],
   "source": [
    "dept_m.createOrReplaceTempView(\"deptmand\")"
   ]
  },
  {
   "cell_type": "code",
   "execution_count": 206,
   "metadata": {},
   "outputs": [],
   "source": [
    "dept_emp.createOrReplaceTempView(\"deptempd\")"
   ]
  },
  {
   "cell_type": "code",
   "execution_count": 207,
   "metadata": {},
   "outputs": [],
   "source": [
    "depts.createOrReplaceTempView(\"deptsd\")"
   ]
  },
  {
   "cell_type": "code",
   "execution_count": 208,
   "metadata": {},
   "outputs": [],
   "source": [
    "emps.createOrReplaceTempView(\"employeesd\")"
   ]
  },
  {
   "cell_type": "code",
   "execution_count": 209,
   "metadata": {},
   "outputs": [],
   "source": [
    "sal.createOrReplaceTempView(\"salariesd\")"
   ]
  },
  {
   "cell_type": "code",
   "execution_count": 210,
   "metadata": {},
   "outputs": [],
   "source": [
    "ti.createOrReplaceTempView(\"titlesd\")"
   ]
  },
  {
   "cell_type": "markdown",
   "metadata": {},
   "source": [
    "# EDA"
   ]
  },
  {
   "cell_type": "code",
   "execution_count": 211,
   "metadata": {},
   "outputs": [],
   "source": [
    "#1.A list showing employee number, last name, first name, sex, and salary for each employee"
   ]
  },
  {
   "cell_type": "code",
   "execution_count": 212,
   "metadata": {},
   "outputs": [
    {
     "name": "stdout",
     "output_type": "stream",
     "text": [
      "+------+----------+----------+---+------+\n",
      "|emp_no| last_name|first_name|sex|salary|\n",
      "+------+----------+----------+---+------+\n",
      "|473302|  Zallocco|  Hideyuki|  M| 40000|\n",
      "|475053| Delgrande|     Byong|  F| 53422|\n",
      "| 57444|      Babb|     Berry|  F| 48973|\n",
      "|421786|  Verhoeff|     Xiong|  M| 40000|\n",
      "|282238|   Baumann|Abdelkader|  F| 40000|\n",
      "|263976|  Cusworth|      Eran|  M| 40000|\n",
      "|273487|   Parfitt| Christoph|  M| 56087|\n",
      "|461591|  Samarati|    Xudong|  M| 40000|\n",
      "|477657| Magliocco|    Lihong|  M| 54816|\n",
      "|219881|     Speek| Kwangyoen|  F| 40000|\n",
      "| 29920|     Tyugu|   Shuichi|  F| 40000|\n",
      "|208153|      Lunn|   Abdulah|  M| 50183|\n",
      "| 13616|     Lorho|     Perry|  F| 40000|\n",
      "|246449|Bultermann|     Subbu|  F| 87084|\n",
      "| 21529|  Zallocco|     Bojan|  M| 40000|\n",
      "| 17934|  Wuwongse|  Bilhanan|  M| 48795|\n",
      "| 48085|      Gilg|Venkatesan|  M| 63016|\n",
      "|239838|     Dulli|   Naftali|  M| 57715|\n",
      "|240129|    Karnin|     Roddy|  M| 43548|\n",
      "|205246|    Demizu|     Nevio|  F| 80252|\n",
      "+------+----------+----------+---+------+\n",
      "only showing top 20 rows\n",
      "\n"
     ]
    }
   ],
   "source": [
    "spark.sql(\"\"\"select E.emp_no, E.last_name,E.first_name, E.sex, S.salary\n",
    "FROM  employeesd E\n",
    "JOIN salariesd S\n",
    "ON E.emp_no = S.emp_no\"\"\").show()"
   ]
  },
  {
   "cell_type": "code",
   "execution_count": 213,
   "metadata": {},
   "outputs": [],
   "source": [
    "#2.A list showing first name, last name, and hire date for employees who were hired in 1986."
   ]
  },
  {
   "cell_type": "code",
   "execution_count": 214,
   "metadata": {},
   "outputs": [
    {
     "name": "stdout",
     "output_type": "stream",
     "text": [
      "+----------+----------+----------+\n",
      "|first_name| last_name| hire_date|\n",
      "+----------+----------+----------+\n",
      "|     Mohit|     Speek|1986-01-01|\n",
      "|   Khatoun|Zeilberger|1986-01-01|\n",
      "+----------+----------+----------+\n",
      "only showing top 2 rows\n",
      "\n"
     ]
    }
   ],
   "source": [
    "spark.sql(\"\"\"select first_name, last_name, hire_date \n",
    "from empdate\n",
    "where year(hire_date)=1986\n",
    "order by hire_date\"\"\").show(2)"
   ]
  },
  {
   "cell_type": "code",
   "execution_count": 215,
   "metadata": {},
   "outputs": [],
   "source": [
    "#3.A list showing the manager of each department with the following information: department number, department name,the manager's employee number, last name, first name."
   ]
  },
  {
   "cell_type": "code",
   "execution_count": 216,
   "metadata": {},
   "outputs": [
    {
     "name": "stdout",
     "output_type": "stream",
     "text": [
      "+-------+--------------------+------+-----------+------------+\n",
      "|dept_no|           dept_name|emp_no| first_name|   last_name|\n",
      "+-------+--------------------+------+-----------+------------+\n",
      "|   d009|  \"Customer Service\"|111877|    Xiaobin|    Spinelli|\n",
      "|   d008|          \"Research\"|111534|     Hilary|      Kambil|\n",
      "|   d006|\"Quality Management\"|110765|     Rutger|     Hofmeyr|\n",
      "|   d004|        \"Production\"|110420|      Oscar|    Ghazalie|\n",
      "|   d006|\"Quality Management\"|110725|  Peternela|     Onuegbe|\n",
      "|   d001|         \"Marketing\"|110022|  Margareta|  Markovitch|\n",
      "|   d007|             \"Sales\"|111035|Przemyslawa|   Kaelbling|\n",
      "|   d005|       \"development\"|110511|   DeForest|    Hagimont|\n",
      "|   d005|       \"development\"|110567|       Leon|    DasSarma|\n",
      "|   d003|   \"Human Resources\"|110183|    Shirish|Ossenbruggen|\n",
      "|   d009|  \"Customer Service\"|111939|    Yuchang|     Weedman|\n",
      "|   d002|           \"Finance\"|110114|      Isamu|  Legleitner|\n",
      "|   d006|\"Quality Management\"|110854|       Dung|       Pesch|\n",
      "|   d001|         \"Marketing\"|110039|   Vishwani|    Minakawa|\n",
      "|   d006|\"Quality Management\"|110800|     Sanjoy|     Quadeer|\n",
      "|   d003|   \"Human Resources\"|110228|    Karsten|     Sigstam|\n",
      "|   d004|        \"Production\"|110303|  Krassimir|     Wegerle|\n",
      "|   d004|        \"Production\"|110344|     Rosine|       Cools|\n",
      "|   d009|  \"Customer Service\"|111692|      Tonny| Butterworth|\n",
      "|   d008|          \"Research\"|111400|       Arie|     Staelin|\n",
      "+-------+--------------------+------+-----------+------------+\n",
      "only showing top 20 rows\n",
      "\n"
     ]
    }
   ],
   "source": [
    "spark.sql(\"\"\"select D.dept_no, D.dept_name,DM.emp_no, E.first_name, E.last_name\n",
    "FROM deptsd D\n",
    "JOIN deptmand DM\n",
    "ON D.dept_no =DM.dept_no\n",
    "JOIN employeesd E\n",
    "ON DM.emp_no = E.emp_no\n",
    "\"\"\").show()"
   ]
  },
  {
   "cell_type": "code",
   "execution_count": 217,
   "metadata": {},
   "outputs": [],
   "source": [
    "#4.A list showing the department of each employee with the following information: employee number, last name, first name, and department name."
   ]
  },
  {
   "cell_type": "code",
   "execution_count": 218,
   "metadata": {},
   "outputs": [
    {
     "name": "stdout",
     "output_type": "stream",
     "text": [
      "+------+----------+----------+--------------------+\n",
      "|emp_no| last_name|first_name|           dept_name|\n",
      "+------+----------+----------+--------------------+\n",
      "|473302|  Zallocco|  Hideyuki|           \"Finance\"|\n",
      "|475053| Delgrande|     Byong|        \"Production\"|\n",
      "| 57444|      Babb|     Berry|        \"Production\"|\n",
      "|421786|  Verhoeff|     Xiong|   \"Human Resources\"|\n",
      "|282238|   Baumann|Abdelkader|\"Quality Management\"|\n",
      "|263976|  Cusworth|      Eran|\"Quality Management\"|\n",
      "|273487|   Parfitt| Christoph|   \"Human Resources\"|\n",
      "|461591|  Samarati|    Xudong|           \"Finance\"|\n",
      "|477657| Magliocco|    Lihong|\"Quality Management\"|\n",
      "|219881|     Speek| Kwangyoen|  \"Customer Service\"|\n",
      "| 29920|     Tyugu|   Shuichi|        \"Production\"|\n",
      "|208153|      Lunn|   Abdulah|       \"development\"|\n",
      "| 13616|     Lorho|     Perry|          \"Research\"|\n",
      "| 13616|     Lorho|     Perry|       \"development\"|\n",
      "|246449|Bultermann|     Subbu|             \"Sales\"|\n",
      "| 21529|  Zallocco|     Bojan|       \"development\"|\n",
      "| 17934|  Wuwongse|  Bilhanan|       \"development\"|\n",
      "| 48085|      Gilg|Venkatesan|           \"Finance\"|\n",
      "|239838|     Dulli|   Naftali|        \"Production\"|\n",
      "|240129|    Karnin|     Roddy|\"Quality Management\"|\n",
      "+------+----------+----------+--------------------+\n",
      "only showing top 20 rows\n",
      "\n"
     ]
    }
   ],
   "source": [
    "spark.sql(\"\"\"select DE.emp_no, E.last_name, E.first_name, D.dept_name\n",
    "from deptempd DE\n",
    "join employeesd E\n",
    "on DE.emp_no = E.emp_no\n",
    "join deptsd D\n",
    "on DE.dept_no = D.dept_no\"\"\").show()"
   ]
  },
  {
   "cell_type": "code",
   "execution_count": 219,
   "metadata": {},
   "outputs": [],
   "source": [
    "#5.A list showing first name, last name, and sex for employees whose first name is \"Hercules\" and last names begin with \"B.“"
   ]
  },
  {
   "cell_type": "code",
   "execution_count": 220,
   "metadata": {},
   "outputs": [
    {
     "name": "stdout",
     "output_type": "stream",
     "text": [
      "+----------+-------------+---+\n",
      "|first_name|    last_name|sex|\n",
      "+----------+-------------+---+\n",
      "|  Hercules|         Baer|  M|\n",
      "|  Hercules|        Biron|  F|\n",
      "|  Hercules|        Birge|  F|\n",
      "|  Hercules|      Berstel|  F|\n",
      "|  Hercules|    Bernatsky|  M|\n",
      "|  Hercules|         Bail|  F|\n",
      "|  Hercules|       Bodoff|  M|\n",
      "|  Hercules|     Benantar|  F|\n",
      "|  Hercules|      Basagni|  M|\n",
      "|  Hercules|Bernardinello|  F|\n",
      "|  Hercules|   Baranowski|  M|\n",
      "|  Hercules|      Bisiani|  F|\n",
      "|  Hercules|   Benzmuller|  M|\n",
      "|  Hercules|         Bahr|  M|\n",
      "|  Hercules|        Biran|  F|\n",
      "|  Hercules|         Bain|  F|\n",
      "|  Hercules|      Brendel|  F|\n",
      "|  Hercules|      Buchter|  M|\n",
      "|  Hercules|     Barreiro|  M|\n",
      "|  Hercules|         Baak|  M|\n",
      "+----------+-------------+---+\n",
      "\n"
     ]
    }
   ],
   "source": [
    "spark.sql(\"\"\"select first_name, last_name, sex\n",
    "from employeesd\n",
    "where first_name = 'Hercules' and  last_name Like 'B%'\n",
    "\"\"\").show()"
   ]
  },
  {
   "cell_type": "code",
   "execution_count": 221,
   "metadata": {},
   "outputs": [],
   "source": [
    "#6.A list showing all employees in the Sales department, including their employee number, last name, first name, and department name."
   ]
  },
  {
   "cell_type": "code",
   "execution_count": 222,
   "metadata": {},
   "outputs": [
    {
     "name": "stdout",
     "output_type": "stream",
     "text": [
      "+---------+-------------+----------+-------+\n",
      "|dept_name|    last_name|first_name|dept_no|\n",
      "+---------+-------------+----------+-------+\n",
      "|  \"Sales\"|   Bultermann|     Subbu|   d007|\n",
      "|  \"Sales\"|       Demizu|     Nevio|   d007|\n",
      "|  \"Sales\"|       Asmuth|      Ziya|   d007|\n",
      "|  \"Sales\"|    Yoshizawa|    Kellyn|   d007|\n",
      "|  \"Sales\"|         Perl|   Elliott|   d007|\n",
      "|  \"Sales\"|     Nollmann|       Gad|   d007|\n",
      "|  \"Sales\"|     Verspoor|      Giap|   d007|\n",
      "|  \"Sales\"|Beutelspacher|      Duro|   d007|\n",
      "|  \"Sales\"|        Swick|  Harngdar|   d007|\n",
      "|  \"Sales\"|       Covnot| Nectarios|   d007|\n",
      "|  \"Sales\"|    Shimshoni|  Kazuhira|   d007|\n",
      "|  \"Sales\"|    Naumovich|   Gilbert|   d007|\n",
      "|  \"Sales\"|        Munke|    Reuven|   d007|\n",
      "|  \"Sales\"|     Skafidas|     Tonny|   d007|\n",
      "|  \"Sales\"|       Zaumen|    Parviz|   d007|\n",
      "|  \"Sales\"|         Pews| Yechezkel|   d007|\n",
      "|  \"Sales\"|      Domenig| Stabislas|   d007|\n",
      "|  \"Sales\"|     Businaro|   Chikara|   d007|\n",
      "|  \"Sales\"|       Vecchi|   Candido|   d007|\n",
      "|  \"Sales\"|        Georg|    Shmuel|   d007|\n",
      "+---------+-------------+----------+-------+\n",
      "only showing top 20 rows\n",
      "\n"
     ]
    }
   ],
   "source": [
    "spark.sql(\"\"\"select D.dept_name,E.last_name,E.first_name,D.dept_no\n",
    "from deptempd DE\n",
    "join employeesd E\n",
    "on DE.emp_no = E.emp_no\n",
    "join deptsd D\n",
    "on DE.dept_no =D.dept_no\n",
    "where D.dept_name = '\"Sales\"'\n",
    "\"\"\").show()"
   ]
  },
  {
   "cell_type": "code",
   "execution_count": 223,
   "metadata": {},
   "outputs": [],
   "source": [
    "#7.A list showing all employees in the Sales and Development departments, including their employee number, last name,first name, and department name."
   ]
  },
  {
   "cell_type": "code",
   "execution_count": 224,
   "metadata": {},
   "outputs": [
    {
     "name": "stdout",
     "output_type": "stream",
     "text": [
      "+------+----------+---------+-------------+\n",
      "|emp_no|first_name|last_name|    dept_name|\n",
      "+------+----------+---------+-------------+\n",
      "|208153|   Abdulah|     Lunn|\"development\"|\n",
      "| 13616|     Perry|    Lorho|\"development\"|\n",
      "| 21529|     Bojan| Zallocco|\"development\"|\n",
      "| 17934|  Bilhanan| Wuwongse|\"development\"|\n",
      "| 71530|Venkatesan| McAlpine|\"development\"|\n",
      "|104639|    Theron|  Escriba|\"development\"|\n",
      "|214555|   Nechama|    Copas|\"development\"|\n",
      "| 35916|    Wonhee|   Talmon|\"development\"|\n",
      "| 61583|      Ziva|   Vecchi|\"development\"|\n",
      "|422587|     Mohit|    Speek|\"development\"|\n",
      "| 48885|     Phuoc|Antonisse|\"development\"|\n",
      "|244492|   Shaunak|   Pettit|\"development\"|\n",
      "| 26941|    Shigeu| Masamoto|\"development\"|\n",
      "|492723| Piyawadee|  Sanella|\"development\"|\n",
      "|425023|   Shaowen|    Krone|\"development\"|\n",
      "|411614|   Martins| Wynblatt|\"development\"|\n",
      "|103676|  Karoline|   Matzov|\"development\"|\n",
      "| 93916|   Rosalie| Rousseau|\"development\"|\n",
      "|430653|    Masoud|    Peroz|\"development\"|\n",
      "|222134|  Qunsheng|    Speer|\"development\"|\n",
      "+------+----------+---------+-------------+\n",
      "only showing top 20 rows\n",
      "\n"
     ]
    }
   ],
   "source": [
    "spark.sql(\"\"\"select DE.emp_no, E.first_name,E.last_name,D.dept_name \n",
    "from deptempd DE\n",
    "join employeesd E\n",
    "on DE.emp_no = E.emp_no\n",
    "join deptsd D\n",
    "on DE.dept_no = D.dept_no\n",
    "where D.dept_name = '\"development\"' \n",
    "or D.dept_name = '\"sales\"'\n",
    "\"\"\").show()"
   ]
  },
  {
   "cell_type": "code",
   "execution_count": 225,
   "metadata": {},
   "outputs": [],
   "source": [
    "#8.A list showing the frequency count of employee last names, in descending order. ( i.e., how many employees share each last name"
   ]
  },
  {
   "cell_type": "code",
   "execution_count": 226,
   "metadata": {},
   "outputs": [
    {
     "name": "stdout",
     "output_type": "stream",
     "text": [
      "+-----------+---------+\n",
      "|  last_name|Frequency|\n",
      "+-----------+---------+\n",
      "|       Baba|      226|\n",
      "|      Coorg|      223|\n",
      "|     Gelosh|      223|\n",
      "|     Farris|      222|\n",
      "|    Sudbeck|      222|\n",
      "|     Adachi|      221|\n",
      "|     Osgood|      220|\n",
      "|     Masada|      218|\n",
      "|     Neiman|      218|\n",
      "|    Mandell|      218|\n",
      "|Boudaillier|      217|\n",
      "|    Wendorf|      217|\n",
      "|     Pettis|      216|\n",
      "|     Mahnke|      216|\n",
      "|    Solares|      216|\n",
      "|   Cummings|      216|\n",
      "|     Emmart|      215|\n",
      "|   Birjandi|      215|\n",
      "|   Collette|      215|\n",
      "| Maksimenko|      215|\n",
      "+-----------+---------+\n",
      "only showing top 20 rows\n",
      "\n"
     ]
    }
   ],
   "source": [
    "spark.sql(\"\"\"select last_name,\n",
    "count(last_name) as Frequency\n",
    "from employeesd\n",
    "group by last_name\n",
    "order by count(last_name) desc\"\"\").show()"
   ]
  },
  {
   "cell_type": "code",
   "execution_count": 227,
   "metadata": {},
   "outputs": [],
   "source": [
    "import pandas as pd\n",
    "import matplotlib.pyplot as plot"
   ]
  },
  {
   "cell_type": "code",
   "execution_count": 228,
   "metadata": {},
   "outputs": [],
   "source": [
    "#9.Histogram to show the salary distribution among the employees"
   ]
  },
  {
   "cell_type": "code",
   "execution_count": 229,
   "metadata": {},
   "outputs": [],
   "source": [
    "sal_dist = spark.sql(\"\"\"select D.dept_name, count(E.emp_no) as No_of_Employees,sum(S.salary) as Total_Salary from deptsd D join deptempd DE on D.dept_no= DE.dept_no join employeesd E on DE.emp_no=E.emp_no join salariesd S on S.emp_no=E.emp_no group by dept_name\"\"\")\n"
   ]
  },
  {
   "cell_type": "code",
   "execution_count": 230,
   "metadata": {},
   "outputs": [
    {
     "name": "stdout",
     "output_type": "stream",
     "text": [
      "+--------------------+---------------+------------+\n",
      "|           dept_name|No_of_Employees|Total_Salary|\n",
      "+--------------------+---------------+------------+\n",
      "|\"Quality Management\"|          20117|   934555467|\n",
      "|        \"Production\"|          73485|  3583161729|\n",
      "|       \"development\"|          85707|  4173702462|\n",
      "|          \"Research\"|          21126|  1032009108|\n",
      "|             \"Sales\"|          52245|  3648379483|\n",
      "|           \"Finance\"|          17346|  1032668378|\n",
      "|   \"Human Resources\"|          17786|   794654412|\n",
      "|         \"Marketing\"|          20211|  1234809182|\n",
      "|  \"Customer Service\"|          23580|  1131808649|\n",
      "+--------------------+---------------+------------+\n",
      "\n"
     ]
    }
   ],
   "source": [
    "sal_dist.show()"
   ]
  },
  {
   "cell_type": "code",
   "execution_count": 231,
   "metadata": {},
   "outputs": [],
   "source": [
    "sal_dist_d = sal_dist.toPandas()"
   ]
  },
  {
   "cell_type": "code",
   "execution_count": 232,
   "metadata": {},
   "outputs": [
    {
     "data": {
      "text/plain": [
       "<matplotlib.axes._subplots.AxesSubplot at 0x7f841a239450>"
      ]
     },
     "execution_count": 232,
     "metadata": {},
     "output_type": "execute_result"
    },
    {
     "data": {
      "image/png": "[encoded data removed]",
      "text/plain": [
       "<Figure size 720x432 with 1 Axes>"
      ]
     },
     "metadata": {},
     "output_type": "display_data"
    }
   ],
   "source": [
    "sal_dist_d.plot(kind ='bar', x='dept_name', y ='Total_Salary',color = \"palegreen\")"
   ]
  },
  {
   "cell_type": "code",
   "execution_count": 233,
   "metadata": {},
   "outputs": [],
   "source": [
    "#10. Bar graph to show the Average salary per title (designation)"
   ]
  },
  {
   "cell_type": "code",
   "execution_count": 234,
   "metadata": {},
   "outputs": [],
   "source": [
    "avg_sal_title = spark.sql(\"\"\"SELECT title, avg(salary) as avg_Salary from titlesd T JOIN employeesd E on T.title_id = E.emp_title_id JOIN salariesd S on E.emp_no =  S.emp_no GROUP BY title\"\"\")\n"
   ]
  },
  {
   "cell_type": "code",
   "execution_count": 235,
   "metadata": {},
   "outputs": [
    {
     "name": "stdout",
     "output_type": "stream",
     "text": [
      "+------------------+------------------+\n",
      "|             title|        avg_Salary|\n",
      "+------------------+------------------+\n",
      "|             Staff| 58465.38285033152|\n",
      "|Assistant Engineer| 48564.43444730077|\n",
      "|      Senior Staff| 58550.17270435993|\n",
      "|   Senior Engineer| 48506.79987109579|\n",
      "|          Engineer|48535.336511426336|\n",
      "|           Manager|51531.041666666664|\n",
      "|  Technique Leader| 48582.89609189332|\n",
      "+------------------+------------------+\n",
      "\n"
     ]
    }
   ],
   "source": [
    "avg_sal_title.show()"
   ]
  },
  {
   "cell_type": "code",
   "execution_count": 236,
   "metadata": {},
   "outputs": [],
   "source": [
    "avg_sal_title_d = avg_sal_title.toPandas()"
   ]
  },
  {
   "cell_type": "code",
   "execution_count": 237,
   "metadata": {},
   "outputs": [
    {
     "data": {
      "text/plain": [
       "<matplotlib.axes._subplots.AxesSubplot at 0x7f84127adad0>"
      ]
     },
     "execution_count": 237,
     "metadata": {},
     "output_type": "execute_result"
    },
    {
     "data": {
      "image/png": "[encoded data removed]",
      "text/plain": [
       "<Figure size 720x432 with 1 Axes>"
      ]
     },
     "metadata": {},
     "output_type": "display_data"
    }
   ],
   "source": [
    "avg_sal_title_d.plot(kind ='bar', x='title', y ='avg_Salary',color = \"plum\")"
   ]
  },
  {
   "cell_type": "code",
   "execution_count": 238,
   "metadata": {},
   "outputs": [],
   "source": [
    "#12. Perform your own Analysis (based on the data understanding) – At least 5 additional analysis"
   ]
  },
  {
   "cell_type": "code",
   "execution_count": 239,
   "metadata": {},
   "outputs": [
    {
     "name": "stdout",
     "output_type": "stream",
     "text": [
      "+------+------------+----------+----------+----------+---+----------+--------------+-----------------------+-----+----------+\n",
      "|emp_no|emp_title_id|birth_date|first_name| last_name|sex| hire_date|no_of_projects|last_performance_rating|left1| last_date|\n",
      "+------+------------+----------+----------+----------+---+----------+--------------+-----------------------+-----+----------+\n",
      "|\n",
      "|\n",
      "|\n",
      "|\n",
      "|\n",
      "|\n",
      "|\n",
      "|\n",
      "|\n",
      "|\n",
      "|\n",
      "|\n",
      "|\n",
      "|\n",
      "|\n",
      "|\n",
      "|\n",
      "|\n",
      "|\n",
      "|\n",
      "+------+------------+----------+----------+----------+---+----------+--------------+-----------------------+-----+----------+\n",
      "only showing top 20 rows\n",
      "\n"
     ]
    }
   ],
   "source": [
    "emps.show()"
   ]
  },
  {
   "cell_type": "code",
   "execution_count": 240,
   "metadata": {},
   "outputs": [],
   "source": [
    "#1displaying the concatenated version of first name and last name of employees along with employee number,sex,hire date and last performance rating"
   ]
  },
  {
   "cell_type": "code",
   "execution_count": 241,
   "metadata": {},
   "outputs": [],
   "source": [
    "emps_concat = spark.sql(\"\"\"select concat(first_name,\" \",last_name) as emp_name,emp_no,sex,hire_date,last_performance_rating from employeesd \"\"\")"
   ]
  },
  {
   "cell_type": "code",
   "execution_count": 242,
   "metadata": {},
   "outputs": [
    {
     "name": "stdout",
     "output_type": "stream",
     "text": [
      "+------------------+------+---+----------+-----------------------+\n",
      "|          emp_name|emp_no|sex| hire_date|last_performance_rating|\n",
      "+------------------+------+---+----------+-----------------------+\n",
      "| Hideyuki Zallocco|473302|  M| 4/28/1990|                      A|\n",
      "|   Byong Delgrande|475053|  F|  9/7/1991|                      C|\n",
      "|        Berry Babb| 57444|  F| 3/21/1992|                      A|\n",
      "|    Xiong Verhoeff|421786|  M|11/26/1987|                      C|\n",
      "|Abdelkader Baumann|282238|  F| 1/18/1991|                      B|\n",
      "|     Eran Cusworth|263976|  M|11/14/1986|                      B|\n",
      "| Christoph Parfitt|273487|  M| 6/28/1991|                      A|\n",
      "|   Xudong Samarati|461591|  M|11/13/1985|                      A|\n",
      "|  Lihong Magliocco|477657|  M|10/23/1993|                      A|\n",
      "|   Kwangyoen Speek|219881|  F| 2/14/1993|                      B|\n",
      "|     Shuichi Tyugu| 29920|  F| 1/17/1995|                    PIP|\n",
      "|      Abdulah Lunn|208153|  M|  4/8/1989|                      C|\n",
      "|       Perry Lorho| 13616|  F|  8/3/1991|                      C|\n",
      "|  Subbu Bultermann|246449|  F| 3/25/1988|                      C|\n",
      "|    Bojan Zallocco| 21529|  M|10/14/1986|                      C|\n",
      "| Bilhanan Wuwongse| 17934|  M| 10/6/1993|                      C|\n",
      "|   Venkatesan Gilg| 48085|  M| 6/28/1993|                      B|\n",
      "|     Naftali Dulli|239838|  M|  6/6/1993|                      A|\n",
      "|      Roddy Karnin|240129|  M| 5/29/1985|                      C|\n",
      "|      Nevio Demizu|205246|  F| 5/18/1986|                      B|\n",
      "+------------------+------+---+----------+-----------------------+\n",
      "only showing top 20 rows\n",
      "\n"
     ]
    }
   ],
   "source": [
    "emps_concat.show()"
   ]
  },
  {
   "cell_type": "code",
   "execution_count": 243,
   "metadata": {},
   "outputs": [],
   "source": [
    "#2listing te employee number,employee name and department name of each employee"
   ]
  },
  {
   "cell_type": "code",
   "execution_count": 245,
   "metadata": {},
   "outputs": [],
   "source": [
    "emps_concat.createOrReplaceTempView(\"employeesnew\")"
   ]
  },
  {
   "cell_type": "code",
   "execution_count": 246,
   "metadata": {},
   "outputs": [
    {
     "name": "stdout",
     "output_type": "stream",
     "text": [
      "+------+--------------------+--------------------+\n",
      "|emp_no|            emp_name|           dept_name|\n",
      "+------+--------------------+--------------------+\n",
      "| 10001|      Georgi Facello|       \"development\"|\n",
      "| 10002|      Bezalel Simmel|             \"Sales\"|\n",
      "| 10003|       Parto Bamford|        \"Production\"|\n",
      "| 10004|   Chirstian Koblick|        \"Production\"|\n",
      "| 10005|    Kyoichi Maliniak|   \"Human Resources\"|\n",
      "| 10006|      Anneke Preusig|       \"development\"|\n",
      "| 10007|   Tzvetan Zielinski|          \"Research\"|\n",
      "| 10008|     Saniya Kalloufi|       \"development\"|\n",
      "| 10009|         Sumant Peac|\"Quality Management\"|\n",
      "| 10010|  Duangkaew Piveteau|        \"Production\"|\n",
      "| 10010|  Duangkaew Piveteau|\"Quality Management\"|\n",
      "| 10011|          Mary Sluis|  \"Customer Service\"|\n",
      "| 10012|  Patricio Bridgland|       \"development\"|\n",
      "| 10013|    Eberhardt Terkki|   \"Human Resources\"|\n",
      "| 10014|         Berni Genin|       \"development\"|\n",
      "| 10015|  Guoxiang Nooteboom|          \"Research\"|\n",
      "| 10016|Kazuhito Cappelletti|             \"Sales\"|\n",
      "| 10017| Cristinel Bouloucos|         \"Marketing\"|\n",
      "| 10018|       Kazuhide Peha|        \"Production\"|\n",
      "| 10018|       Kazuhide Peha|       \"development\"|\n",
      "+------+--------------------+--------------------+\n",
      "only showing top 20 rows\n",
      "\n"
     ]
    }
   ],
   "source": [
    "spark.sql(\"\"\"select DE.emp_no, EC.emp_name,D.dept_name \n",
    "from deptempd DE\n",
    "join employeesd E\n",
    "on DE.emp_no = E.emp_no\n",
    "join deptsd D\n",
    "on DE.dept_no = D.dept_no\n",
    "join employeesnew EC\n",
    "on E.emp_no=EC.emp_no\n",
    "\"\"\").show()\n"
   ]
  },
  {
   "cell_type": "code",
   "execution_count": 247,
   "metadata": {},
   "outputs": [],
   "source": [
    "#3listing total number of employees in each department"
   ]
  },
  {
   "cell_type": "code",
   "execution_count": 248,
   "metadata": {},
   "outputs": [
    {
     "name": "stdout",
     "output_type": "stream",
     "text": [
      "+--------------------+---------------+\n",
      "|           dept_name|no_of_employees|\n",
      "+--------------------+---------------+\n",
      "|\"Quality Management\"|          20117|\n",
      "|        \"Production\"|          73485|\n",
      "|       \"development\"|          85707|\n",
      "|          \"Research\"|          21126|\n",
      "|             \"Sales\"|          52245|\n",
      "|           \"Finance\"|          17346|\n",
      "|   \"Human Resources\"|          17786|\n",
      "|         \"Marketing\"|          20211|\n",
      "|  \"Customer Service\"|          23580|\n",
      "+--------------------+---------------+\n",
      "\n"
     ]
    }
   ],
   "source": [
    "spark.sql(\"\"\"select D.dept_name,\n",
    "count(DE.emp_no) as no_of_employees\n",
    "from deptempd DE\n",
    "join deptsd D\n",
    "on D.dept_no = DE.dept_no\n",
    "group by D.dept_name\"\"\").show()"
   ]
  },
  {
   "cell_type": "code",
   "execution_count": 249,
   "metadata": {},
   "outputs": [],
   "source": [
    "#4.displaying the employee name,employee number and salary of each employee"
   ]
  },
  {
   "cell_type": "code",
   "execution_count": 250,
   "metadata": {},
   "outputs": [
    {
     "name": "stdout",
     "output_type": "stream",
     "text": [
      "+------------------+------+---+----------+-----------------------+\n",
      "|          emp_name|emp_no|sex| hire_date|last_performance_rating|\n",
      "+------------------+------+---+----------+-----------------------+\n",
      "| Hideyuki Zallocco|473302|  M| 4/28/1990|                      A|\n",
      "|   Byong Delgrande|475053|  F|  9/7/1991|                      C|\n",
      "|        Berry Babb| 57444|  F| 3/21/1992|                      A|\n",
      "|    Xiong Verhoeff|421786|  M|11/26/1987|                      C|\n",
      "|Abdelkader Baumann|282238|  F| 1/18/1991|                      B|\n",
      "|     Eran Cusworth|263976|  M|11/14/1986|                      B|\n",
      "| Christoph Parfitt|273487|  M| 6/28/1991|                      A|\n",
      "|   Xudong Samarati|461591|  M|11/13/1985|                      A|\n",
      "|  Lihong Magliocco|477657|  M|10/23/1993|                      A|\n",
      "|   Kwangyoen Speek|219881|  F| 2/14/1993|                      B|\n",
      "|     Shuichi Tyugu| 29920|  F| 1/17/1995|                    PIP|\n",
      "|      Abdulah Lunn|208153|  M|  4/8/1989|                      C|\n",
      "|       Perry Lorho| 13616|  F|  8/3/1991|                      C|\n",
      "|  Subbu Bultermann|246449|  F| 3/25/1988|                      C|\n",
      "|    Bojan Zallocco| 21529|  M|10/14/1986|                      C|\n",
      "| Bilhanan Wuwongse| 17934|  M| 10/6/1993|                      C|\n",
      "|   Venkatesan Gilg| 48085|  M| 6/28/1993|                      B|\n",
      "|     Naftali Dulli|239838|  M|  6/6/1993|                      A|\n",
      "|      Roddy Karnin|240129|  M| 5/29/1985|                      C|\n",
      "|      Nevio Demizu|205246|  F| 5/18/1986|                      B|\n",
      "+------------------+------+---+----------+-----------------------+\n",
      "only showing top 20 rows\n",
      "\n"
     ]
    }
   ],
   "source": [
    "emps_concat.show()"
   ]
  },
  {
   "cell_type": "code",
   "execution_count": 251,
   "metadata": {},
   "outputs": [
    {
     "name": "stdout",
     "output_type": "stream",
     "text": [
      "+------+------------------+------+\n",
      "|emp_no|          emp_name|salary|\n",
      "+------+------------------+------+\n",
      "|473302| Hideyuki Zallocco| 40000|\n",
      "|475053|   Byong Delgrande| 53422|\n",
      "| 57444|        Berry Babb| 48973|\n",
      "|421786|    Xiong Verhoeff| 40000|\n",
      "|282238|Abdelkader Baumann| 40000|\n",
      "|263976|     Eran Cusworth| 40000|\n",
      "|273487| Christoph Parfitt| 56087|\n",
      "|461591|   Xudong Samarati| 40000|\n",
      "|477657|  Lihong Magliocco| 54816|\n",
      "|219881|   Kwangyoen Speek| 40000|\n",
      "| 29920|     Shuichi Tyugu| 40000|\n",
      "|208153|      Abdulah Lunn| 50183|\n",
      "| 13616|       Perry Lorho| 40000|\n",
      "|246449|  Subbu Bultermann| 87084|\n",
      "| 21529|    Bojan Zallocco| 40000|\n",
      "| 17934| Bilhanan Wuwongse| 48795|\n",
      "| 48085|   Venkatesan Gilg| 63016|\n",
      "|239838|     Naftali Dulli| 57715|\n",
      "|240129|      Roddy Karnin| 43548|\n",
      "|205246|      Nevio Demizu| 80252|\n",
      "+------+------------------+------+\n",
      "only showing top 20 rows\n",
      "\n"
     ]
    }
   ],
   "source": [
    "spark.sql(\"\"\"select EC.emp_no, EC.emp_name,S.salary\n",
    "from employeesnew EC\n",
    "join salariesd S\n",
    "on S.emp_no = EC.emp_no\n",
    "\"\"\").show()\n"
   ]
  },
  {
   "cell_type": "code",
   "execution_count": 252,
   "metadata": {},
   "outputs": [],
   "source": [
    "#5.listing the number of male and female employees in each department"
   ]
  },
  {
   "cell_type": "code",
   "execution_count": 253,
   "metadata": {},
   "outputs": [
    {
     "name": "stdout",
     "output_type": "stream",
     "text": [
      "+--------------------+---+--------------------+\n",
      "|           dept_name|sex|count_of_male_female|\n",
      "+--------------------+---+--------------------+\n",
      "|\"Quality Management\"|  F|                8078|\n",
      "|         \"Marketing\"|  F|                8037|\n",
      "|           \"Finance\"|  F|                7015|\n",
      "|             \"Sales\"|  M|               31391|\n",
      "|       \"development\"|  F|               34258|\n",
      "|        \"Production\"|  F|               29549|\n",
      "|  \"Customer Service\"|  M|               14132|\n",
      "|        \"Production\"|  M|               43936|\n",
      "|             \"Sales\"|  F|               20854|\n",
      "|\"Quality Management\"|  M|               12039|\n",
      "|          \"Research\"|  F|                8439|\n",
      "|           \"Finance\"|  M|               10331|\n",
      "|  \"Customer Service\"|  F|                9448|\n",
      "|   \"Human Resources\"|  F|                7075|\n",
      "|          \"Research\"|  M|               12687|\n",
      "|       \"development\"|  M|               51449|\n",
      "|   \"Human Resources\"|  M|               10711|\n",
      "|         \"Marketing\"|  M|               12174|\n",
      "+--------------------+---+--------------------+\n",
      "\n"
     ]
    }
   ],
   "source": [
    "spark.sql(\"\"\"select D.dept_name,E.sex,count(E.sex) as count_of_male_female\n",
    "from employeesd E\n",
    "join deptempd DE\n",
    "on E.emp_no = DE.emp_no\n",
    "join deptsd D\n",
    "on D.dept_no = DE.dept_no\n",
    "group by D.dept_name,E.sex\n",
    "\"\"\").show()"
   ]
  },
  {
   "cell_type": "markdown",
   "metadata": {},
   "source": [
    "# Modelling"
   ]
  },
  {
   "cell_type": "code",
   "execution_count": 254,
   "metadata": {},
   "outputs": [],
   "source": [
    "#joining all the 6 tables"
   ]
  },
  {
   "cell_type": "code",
   "execution_count": 255,
   "metadata": {},
   "outputs": [],
   "source": [
    "data = emps.join(dept_emp,on = 'emp_no', how = 'left') \\\n",
    "        .join(depts, on='dept_no',how = 'left') \\\n",
    "        .join(sal, on ='emp_no', how = 'left') \\\n",
    "        .join(ti, emps.emp_title_id == ti.title_id, 'left')"
   ]
  },
  {
   "cell_type": "code",
   "execution_count": 256,
   "metadata": {},
   "outputs": [
    {
     "name": "stdout",
     "output_type": "stream",
     "text": [
      "+------+-------+------------+----------+----------+----------+---+----------+--------------+-----------------------+-----+----------+--------------------+------+--------+----------------+\n",
      "|emp_no|dept_no|emp_title_id|birth_date|first_name| last_name|sex| hire_date|no_of_projects|last_performance_rating|left1| last_date|           dept_name|salary|title_id|           title|\n",
      "+------+-------+------------+----------+----------+----------+---+----------+--------------+-----------------------+-----+----------+--------------------+------+--------+----------------+\n",
      "|           \"Finance\"| 40000|   s0001|           Staff|\n",
      "|        \"Production\"| 53422|   e0002|        Engineer|\n",
      "|        \"Production\"| 48973|   e0002|        Engineer|\n",
      "|   \"Human Resources\"| 40000|   s0001|           Staff|\n",
      "|\"Quality Management\"| 40000|   e0003| Senior Engineer|\n",
      "|\"Quality Management\"| 40000|   e0003| Senior Engineer|\n",
      "|   \"Human Resources\"| 56087|   s0001|           Staff|\n",
      "|           \"Finance\"| 40000|   s0002|    Senior Staff|\n",
      "|\"Quality Management\"| 54816|   e0002|        Engineer|\n",
      "|  \"Customer Service\"| 40000|   s0002|    Senior Staff|\n",
      "|        \"Production\"| 40000|   e0002|        Engineer|\n",
      "|       \"development\"| 50183|   e0003| Senior Engineer|\n",
      "|          \"Research\"| 40000|   e0003| Senior Engineer|\n",
      "|       \"development\"| 40000|   e0003| Senior Engineer|\n",
      "|             \"Sales\"| 87084|   s0001|           Staff|\n",
      "|       \"development\"| 40000|   e0002|        Engineer|\n",
      "|       \"development\"| 48795|   e0004|Technique Leader|\n",
      "|           \"Finance\"| 63016|   s0001|           Staff|\n",
      "|        \"Production\"| 57715|   e0002|        Engineer|\n",
      "|\"Quality Management\"| 43548|   e0004|Technique Leader|\n",
      "+------+-------+------------+----------+----------+----------+---+----------+--------------+-----------------------+-----+----------+--------------------+------+--------+----------------+\n",
      "only showing top 20 rows\n",
      "\n"
     ]
    }
   ],
   "source": [
    "data.show()"
   ]
  },
  {
   "cell_type": "code",
   "execution_count": 257,
   "metadata": {},
   "outputs": [
    {
     "data": {
      "text/plain": [
       "DataFrame[emp_no: int, dept_no: string, emp_title_id: string, birth_date: string, first_name: string, last_name: string, sex: string, hire_date: string, no_of_projects: int, last_performance_rating: string, left1: int, last_date: string, dept_name: string, salary: bigint, title_id: string, title: string]"
      ]
     },
     "execution_count": 257,
     "metadata": {},
     "output_type": "execute_result"
    }
   ],
   "source": [
    "data.cache()"
   ]
  },
  {
   "cell_type": "code",
   "execution_count": 258,
   "metadata": {},
   "outputs": [
    {
     "name": "stdout",
     "output_type": "stream",
     "text": [
      "+------+-------+------------+----------+----------+---------+---+----------+--------------+-----------------------+-----+---------+--------------------+------+--------+---------------+\n",
      "|emp_no|dept_no|emp_title_id|birth_date|first_name|last_name|sex| hire_date|no_of_projects|last_performance_rating|left1|last_date|           dept_name|salary|title_id|          title|\n",
      "+------+-------+------------+----------+----------+---------+---+----------+--------------+-----------------------+-----+---------+--------------------+------+--------+---------------+\n",
      "|           \"Finance\"| 40000|   s0001|          Staff|\n",
      "|        \"Production\"| 53422|   e0002|       Engineer|\n",
      "|        \"Production\"| 48973|   e0002|       Engineer|\n",
      "|   \"Human Resources\"| 40000|   s0001|          Staff|\n",
      "|\"Quality Management\"| 40000|   e0003|Senior Engineer|\n",
      "+------+-------+------------+----------+----------+---------+---+----------+--------------+-----------------------+-----+---------+--------------------+------+--------+---------------+\n",
      "only showing top 5 rows\n",
      "\n"
     ]
    }
   ],
   "source": [
    "data.show(5)"
   ]
  },
  {
   "cell_type": "code",
   "execution_count": 259,
   "metadata": {},
   "outputs": [
    {
     "data": {
      "text/plain": [
       "331603"
      ]
     },
     "execution_count": 259,
     "metadata": {},
     "output_type": "execute_result"
    }
   ],
   "source": [
    "data.count()"
   ]
  },
  {
   "cell_type": "code",
   "execution_count": 260,
   "metadata": {},
   "outputs": [
    {
     "data": {
      "text/plain": [
       "['emp_no',\n",
       " 'dept_no',\n",
       " 'emp_title_id',\n",
       " 'birth_date',\n",
       " 'first_name',\n",
       " 'last_name',\n",
       " 'sex',\n",
       " 'hire_date',\n",
       " 'no_of_projects',\n",
       " 'last_performance_rating',\n",
       " 'left1',\n",
       " 'last_date',\n",
       " 'dept_name',\n",
       " 'salary',\n",
       " 'title_id',\n",
       " 'title']"
      ]
     },
     "execution_count": 260,
     "metadata": {},
     "output_type": "execute_result"
    }
   ],
   "source": [
    "data.columns"
   ]
  },
  {
   "cell_type": "code",
   "execution_count": 261,
   "metadata": {},
   "outputs": [
    {
     "data": {
      "text/plain": [
       "[('emp_no', 'int'),\n",
       " ('dept_no', 'string'),\n",
       " ('emp_title_id', 'string'),\n",
       " ('birth_date', 'string'),\n",
       " ('first_name', 'string'),\n",
       " ('last_name', 'string'),\n",
       " ('sex', 'string'),\n",
       " ('hire_date', 'string'),\n",
       " ('no_of_projects', 'int'),\n",
       " ('last_performance_rating', 'string'),\n",
       " ('left1', 'int'),\n",
       " ('last_date', 'string'),\n",
       " ('dept_name', 'string'),\n",
       " ('salary', 'bigint'),\n",
       " ('title_id', 'string'),\n",
       " ('title', 'string')]"
      ]
     },
     "execution_count": 261,
     "metadata": {},
     "output_type": "execute_result"
    }
   ],
   "source": [
    "data.dtypes"
   ]
  },
  {
   "cell_type": "code",
   "execution_count": 262,
   "metadata": {},
   "outputs": [
    {
     "name": "stdout",
     "output_type": "stream",
     "text": [
      "+-------+------------------+-------+------------+----------+----------+---------+------+---------+------------------+-----------------------+-------------------+---------+------------------+------------------+--------+------------------+\n",
      "|summary|            emp_no|dept_no|emp_title_id|birth_date|first_name|last_name|   sex|hire_date|    no_of_projects|last_performance_rating|              left1|last_date|         dept_name|            salary|title_id|             title|\n",
      "+-------+------------------+-------+------------+----------+----------+---------+------+---------+------------------+-----------------------+-------------------+---------+------------------+------------------+--------+------------------+\n",
      "|  count|            331603| 331603|      331603|    331603|    331603|   331603|331603|   331603|            331603|                 331603|             331603|   331603|            331603|            331603|  331603|            331603|\n",
      "|   mean|253332.60502468314|   null|        null|      null|      null|     null|  null|     null|5.5048567111877755|                   null|0.09957991936140505|     null|              null| 52972.22543221865|    null|              null|\n",
      "| stddev|161831.91944548886|   null|        null|      null|      null|     null|  null|     null|2.8728285038833126|                   null|  0.299439525475672|     null|              null|14299.003000805926|    null|              null|\n",
      "|\"Customer Service\"|             40000|   e0001|Assistant Engineer|\n",
      "|     \"development\"|            129492|   s0002|  Technique Leader|\n",
      "+-------+------------------+-------+------------+----------+----------+---------+------+---------+------------------+-----------------------+-------------------+---------+------------------+------------------+--------+------------------+\n",
      "\n"
     ]
    }
   ],
   "source": [
    "data.describe().show()"
   ]
  },
  {
   "cell_type": "code",
   "execution_count": 263,
   "metadata": {},
   "outputs": [],
   "source": [
    "#Plotting distribution\n",
    "import matplotlib.pyplot as plt\n",
    "import seaborn as sn\n",
    "%matplotlib inline"
   ]
  },
  {
   "cell_type": "code",
   "execution_count": 264,
   "metadata": {},
   "outputs": [],
   "source": [
    "data_pd = data.select('salary').toPandas()"
   ]
  },
  {
   "cell_type": "code",
   "execution_count": 265,
   "metadata": {},
   "outputs": [
    {
     "data": {
      "text/html": [
       "<div>\n",
       "<style scoped>\n",
       "    .dataframe tbody tr th:only-of-type {\n",
       "        vertical-align: middle;\n",
       "    }\n",
       "\n",
       "    .dataframe tbody tr th {\n",
       "        vertical-align: top;\n",
       "    }\n",
       "\n",
       "    .dataframe thead th {\n",
       "        text-align: right;\n",
       "    }\n",
       "</style>\n",
       "<table border=\"1\" class=\"dataframe\">\n",
       "  <thead>\n",
       "    <tr style=\"text-align: right;\">\n",
       "      <th></th>\n",
       "      <th>salary</th>\n",
       "    </tr>\n",
       "  </thead>\n",
       "  <tbody>\n",
       "    <tr>\n",
       "      <th>0</th>\n",
       "      <td>40000</td>\n",
       "    </tr>\n",
       "    <tr>\n",
       "      <th>1</th>\n",
       "      <td>53422</td>\n",
       "    </tr>\n",
       "    <tr>\n",
       "      <th>2</th>\n",
       "      <td>48973</td>\n",
       "    </tr>\n",
       "    <tr>\n",
       "      <th>3</th>\n",
       "      <td>40000</td>\n",
       "    </tr>\n",
       "    <tr>\n",
       "      <th>4</th>\n",
       "      <td>40000</td>\n",
       "    </tr>\n",
       "  </tbody>\n",
       "</table>\n",
       "</div>"
      ],
      "text/plain": [
       "   salary\n",
       "0   40000\n",
       "1   53422\n",
       "2   48973\n",
       "3   40000\n",
       "4   40000"
      ]
     },
     "execution_count": 265,
     "metadata": {},
     "output_type": "execute_result"
    }
   ],
   "source": [
    "data_pd.head()"
   ]
  },
  {
   "cell_type": "code",
   "execution_count": 266,
   "metadata": {},
   "outputs": [],
   "source": [
    "import pandas as pd"
   ]
  },
  {
   "cell_type": "code",
   "execution_count": 267,
   "metadata": {},
   "outputs": [
    {
     "data": {
      "text/plain": [
       "<matplotlib.axes._subplots.AxesSubplot at 0x7f841a410390>"
      ]
     },
     "execution_count": 267,
     "metadata": {},
     "output_type": "execute_result"
    },
    {
     "data": {
      "image/png": "[encoded data removed]",
      "text/plain": [
       "<Figure size 720x432 with 1 Axes>"
      ]
     },
     "metadata": {},
     "output_type": "display_data"
    }
   ],
   "source": [
    "#Density Plot of salary\n",
    "sn.set(rc={\"figure.figsize\": (10, 6)})\n",
    "sn.distplot(pd.to_numeric(data_pd['salary']), norm_hist=True)"
   ]
  },
  {
   "cell_type": "code",
   "execution_count": 268,
   "metadata": {},
   "outputs": [
    {
     "data": {
      "text/plain": [
       "<matplotlib.axes._subplots.AxesSubplot at 0x7f840c1fe490>"
      ]
     },
     "execution_count": 268,
     "metadata": {},
     "output_type": "execute_result"
    },
    {
     "data": {
      "image/png": "[encoded data removed]",
      "text/plain": [
       "<Figure size 720x432 with 1 Axes>"
      ]
     },
     "metadata": {},
     "output_type": "display_data"
    }
   ],
   "source": [
    "#Boxplot\n",
    "sn.boxplot(x= pd.to_numeric(data_pd['salary']))"
   ]
  },
  {
   "cell_type": "code",
   "execution_count": 269,
   "metadata": {},
   "outputs": [
    {
     "data": {
      "text/html": [
       "<div>\n",
       "<style scoped>\n",
       "    .dataframe tbody tr th:only-of-type {\n",
       "        vertical-align: middle;\n",
       "    }\n",
       "\n",
       "    .dataframe tbody tr th {\n",
       "        vertical-align: top;\n",
       "    }\n",
       "\n",
       "    .dataframe thead th {\n",
       "        text-align: right;\n",
       "    }\n",
       "</style>\n",
       "<table border=\"1\" class=\"dataframe\">\n",
       "  <thead>\n",
       "    <tr style=\"text-align: right;\">\n",
       "      <th></th>\n",
       "      <th>0</th>\n",
       "    </tr>\n",
       "  </thead>\n",
       "  <tbody>\n",
       "    <tr>\n",
       "      <th>emp_no</th>\n",
       "      <td>0</td>\n",
       "    </tr>\n",
       "    <tr>\n",
       "      <th>dept_no</th>\n",
       "      <td>0</td>\n",
       "    </tr>\n",
       "    <tr>\n",
       "      <th>emp_title_id</th>\n",
       "      <td>0</td>\n",
       "    </tr>\n",
       "    <tr>\n",
       "      <th>birth_date</th>\n",
       "      <td>0</td>\n",
       "    </tr>\n",
       "    <tr>\n",
       "      <th>first_name</th>\n",
       "      <td>0</td>\n",
       "    </tr>\n",
       "    <tr>\n",
       "      <th>last_name</th>\n",
       "      <td>0</td>\n",
       "    </tr>\n",
       "    <tr>\n",
       "      <th>sex</th>\n",
       "      <td>0</td>\n",
       "    </tr>\n",
       "    <tr>\n",
       "      <th>hire_date</th>\n",
       "      <td>0</td>\n",
       "    </tr>\n",
       "    <tr>\n",
       "      <th>no_of_projects</th>\n",
       "      <td>0</td>\n",
       "    </tr>\n",
       "    <tr>\n",
       "      <th>last_performance_rating</th>\n",
       "      <td>0</td>\n",
       "    </tr>\n",
       "    <tr>\n",
       "      <th>left1</th>\n",
       "      <td>0</td>\n",
       "    </tr>\n",
       "    <tr>\n",
       "      <th>last_date</th>\n",
       "      <td>0</td>\n",
       "    </tr>\n",
       "    <tr>\n",
       "      <th>dept_name</th>\n",
       "      <td>0</td>\n",
       "    </tr>\n",
       "    <tr>\n",
       "      <th>salary</th>\n",
       "      <td>0</td>\n",
       "    </tr>\n",
       "    <tr>\n",
       "      <th>title_id</th>\n",
       "      <td>0</td>\n",
       "    </tr>\n",
       "    <tr>\n",
       "      <th>title</th>\n",
       "      <td>0</td>\n",
       "    </tr>\n",
       "  </tbody>\n",
       "</table>\n",
       "</div>"
      ],
      "text/plain": [
       "                         0\n",
       "emp_no                   0\n",
       "dept_no                  0\n",
       "emp_title_id             0\n",
       "birth_date               0\n",
       "first_name               0\n",
       "last_name                0\n",
       "sex                      0\n",
       "hire_date                0\n",
       "no_of_projects           0\n",
       "last_performance_rating  0\n",
       "left1                    0\n",
       "last_date                0\n",
       "dept_name                0\n",
       "salary                   0\n",
       "title_id                 0\n",
       "title                    0"
      ]
     },
     "execution_count": 269,
     "metadata": {},
     "output_type": "execute_result"
    }
   ],
   "source": [
    "#check for null values\n",
    "from pyspark.sql.functions import isnan, when, count, col\n",
    "data.select([count(when(col(c).isNull(), c)).alias(c) for c in data.columns]).toPandas().transpose()"
   ]
  },
  {
   "cell_type": "code",
   "execution_count": 270,
   "metadata": {},
   "outputs": [
    {
     "data": {
      "text/plain": [
       "['emp_no', 'no_of_projects', 'left1']"
      ]
     },
     "execution_count": 270,
     "metadata": {},
     "output_type": "execute_result"
    }
   ],
   "source": [
    "numeric_features = [t[0] for t in data.dtypes if t[1] == 'int' or t[1] == 'double']\n",
    "numeric_features"
   ]
  },
  {
   "cell_type": "code",
   "execution_count": 271,
   "metadata": {},
   "outputs": [
    {
     "data": {
      "text/html": [
       "<div>\n",
       "<style scoped>\n",
       "    .dataframe tbody tr th:only-of-type {\n",
       "        vertical-align: middle;\n",
       "    }\n",
       "\n",
       "    .dataframe tbody tr th {\n",
       "        vertical-align: top;\n",
       "    }\n",
       "\n",
       "    .dataframe thead th {\n",
       "        text-align: right;\n",
       "    }\n",
       "</style>\n",
       "<table border=\"1\" class=\"dataframe\">\n",
       "  <thead>\n",
       "    <tr style=\"text-align: right;\">\n",
       "      <th></th>\n",
       "      <th>0</th>\n",
       "      <th>1</th>\n",
       "      <th>2</th>\n",
       "      <th>3</th>\n",
       "      <th>4</th>\n",
       "      <th>5</th>\n",
       "      <th>6</th>\n",
       "      <th>7</th>\n",
       "      <th>8</th>\n",
       "      <th>9</th>\n",
       "      <th>...</th>\n",
       "      <th>331593</th>\n",
       "      <th>331594</th>\n",
       "      <th>331595</th>\n",
       "      <th>331596</th>\n",
       "      <th>331597</th>\n",
       "      <th>331598</th>\n",
       "      <th>331599</th>\n",
       "      <th>331600</th>\n",
       "      <th>331601</th>\n",
       "      <th>331602</th>\n",
       "    </tr>\n",
       "  </thead>\n",
       "  <tbody>\n",
       "    <tr>\n",
       "      <th>emp_no</th>\n",
       "      <td>473302</td>\n",
       "      <td>475053</td>\n",
       "      <td>57444</td>\n",
       "      <td>421786</td>\n",
       "      <td>282238</td>\n",
       "      <td>263976</td>\n",
       "      <td>273487</td>\n",
       "      <td>461591</td>\n",
       "      <td>477657</td>\n",
       "      <td>219881</td>\n",
       "      <td>...</td>\n",
       "      <td>99439</td>\n",
       "      <td>225587</td>\n",
       "      <td>229498</td>\n",
       "      <td>229498</td>\n",
       "      <td>464231</td>\n",
       "      <td>255832</td>\n",
       "      <td>76671</td>\n",
       "      <td>264920</td>\n",
       "      <td>264920</td>\n",
       "      <td>464503</td>\n",
       "    </tr>\n",
       "    <tr>\n",
       "      <th>no_of_projects</th>\n",
       "      <td>2</td>\n",
       "      <td>1</td>\n",
       "      <td>9</td>\n",
       "      <td>2</td>\n",
       "      <td>6</td>\n",
       "      <td>8</td>\n",
       "      <td>10</td>\n",
       "      <td>2</td>\n",
       "      <td>5</td>\n",
       "      <td>6</td>\n",
       "      <td>...</td>\n",
       "      <td>10</td>\n",
       "      <td>5</td>\n",
       "      <td>4</td>\n",
       "      <td>4</td>\n",
       "      <td>9</td>\n",
       "      <td>10</td>\n",
       "      <td>8</td>\n",
       "      <td>1</td>\n",
       "      <td>1</td>\n",
       "      <td>8</td>\n",
       "    </tr>\n",
       "    <tr>\n",
       "      <th>left1</th>\n",
       "      <td>0</td>\n",
       "      <td>0</td>\n",
       "      <td>0</td>\n",
       "      <td>0</td>\n",
       "      <td>0</td>\n",
       "      <td>1</td>\n",
       "      <td>0</td>\n",
       "      <td>1</td>\n",
       "      <td>0</td>\n",
       "      <td>0</td>\n",
       "      <td>...</td>\n",
       "      <td>0</td>\n",
       "      <td>0</td>\n",
       "      <td>0</td>\n",
       "      <td>0</td>\n",
       "      <td>0</td>\n",
       "      <td>0</td>\n",
       "      <td>0</td>\n",
       "      <td>0</td>\n",
       "      <td>0</td>\n",
       "      <td>0</td>\n",
       "    </tr>\n",
       "  </tbody>\n",
       "</table>\n",
       "<p>3 rows × 331603 columns</p>\n",
       "</div>"
      ],
      "text/plain": [
       "                0       1       2       3       4       5       6       \\\n",
       "emp_no          473302  475053   57444  421786  282238  263976  273487   \n",
       "no_of_projects       2       1       9       2       6       8      10   \n",
       "left1                0       0       0       0       0       1       0   \n",
       "\n",
       "                7       8       9       ...  331593  331594  331595  331596  \\\n",
       "emp_no          461591  477657  219881  ...   99439  225587  229498  229498   \n",
       "no_of_projects       2       5       6  ...      10       5       4       4   \n",
       "left1                1       0       0  ...       0       0       0       0   \n",
       "\n",
       "                331597  331598  331599  331600  331601  331602  \n",
       "emp_no          464231  255832   76671  264920  264920  464503  \n",
       "no_of_projects       9      10       8       1       1       8  \n",
       "left1                0       0       0       0       0       0  \n",
       "\n",
       "[3 rows x 331603 columns]"
      ]
     },
     "execution_count": 271,
     "metadata": {},
     "output_type": "execute_result"
    }
   ],
   "source": [
    "data.select(numeric_features).toPandas().transpose()"
   ]
  },
  {
   "cell_type": "code",
   "execution_count": 272,
   "metadata": {},
   "outputs": [
    {
     "data": {
      "text/plain": [
       "['dept_no',\n",
       " 'emp_title_id',\n",
       " 'birth_date',\n",
       " 'first_name',\n",
       " 'last_name',\n",
       " 'sex',\n",
       " 'hire_date',\n",
       " 'last_performance_rating',\n",
       " 'last_date',\n",
       " 'dept_name',\n",
       " 'title_id',\n",
       " 'title']"
      ]
     },
     "execution_count": 272,
     "metadata": {},
     "output_type": "execute_result"
    }
   ],
   "source": [
    "categorical_features = [t[0] for t in data.dtypes if t[1] == 'string']\n",
    "categorical_features"
   ]
  },
  {
   "cell_type": "code",
   "execution_count": 273,
   "metadata": {},
   "outputs": [
    {
     "data": {
      "text/html": [
       "<div>\n",
       "<style scoped>\n",
       "    .dataframe tbody tr th:only-of-type {\n",
       "        vertical-align: middle;\n",
       "    }\n",
       "\n",
       "    .dataframe tbody tr th {\n",
       "        vertical-align: top;\n",
       "    }\n",
       "\n",
       "    .dataframe thead th {\n",
       "        text-align: right;\n",
       "    }\n",
       "</style>\n",
       "<table border=\"1\" class=\"dataframe\">\n",
       "  <thead>\n",
       "    <tr style=\"text-align: right;\">\n",
       "      <th></th>\n",
       "      <th>0</th>\n",
       "      <th>1</th>\n",
       "      <th>2</th>\n",
       "      <th>3</th>\n",
       "      <th>4</th>\n",
       "      <th>5</th>\n",
       "      <th>6</th>\n",
       "      <th>7</th>\n",
       "      <th>8</th>\n",
       "      <th>9</th>\n",
       "      <th>...</th>\n",
       "      <th>331593</th>\n",
       "      <th>331594</th>\n",
       "      <th>331595</th>\n",
       "      <th>331596</th>\n",
       "      <th>331597</th>\n",
       "      <th>331598</th>\n",
       "      <th>331599</th>\n",
       "      <th>331600</th>\n",
       "      <th>331601</th>\n",
       "      <th>331602</th>\n",
       "    </tr>\n",
       "  </thead>\n",
       "  <tbody>\n",
       "    <tr>\n",
       "      <th>dept_no</th>\n",
       "      <td>d002</td>\n",
       "      <td>d004</td>\n",
       "      <td>d004</td>\n",
       "      <td>d003</td>\n",
       "      <td>d006</td>\n",
       "      <td>d006</td>\n",
       "      <td>d003</td>\n",
       "      <td>d002</td>\n",
       "      <td>d006</td>\n",
       "      <td>d009</td>\n",
       "      <td>...</td>\n",
       "      <td>d007</td>\n",
       "      <td>d002</td>\n",
       "      <td>d008</td>\n",
       "      <td>d005</td>\n",
       "      <td>d007</td>\n",
       "      <td>d004</td>\n",
       "      <td>d007</td>\n",
       "      <td>d007</td>\n",
       "      <td>d002</td>\n",
       "      <td>d008</td>\n",
       "    </tr>\n",
       "    <tr>\n",
       "      <th>emp_title_id</th>\n",
       "      <td>s0001</td>\n",
       "      <td>e0002</td>\n",
       "      <td>e0002</td>\n",
       "      <td>s0001</td>\n",
       "      <td>e0003</td>\n",
       "      <td>e0003</td>\n",
       "      <td>s0001</td>\n",
       "      <td>s0002</td>\n",
       "      <td>e0002</td>\n",
       "      <td>s0002</td>\n",
       "      <td>...</td>\n",
       "      <td>s0001</td>\n",
       "      <td>s0002</td>\n",
       "      <td>e0002</td>\n",
       "      <td>e0002</td>\n",
       "      <td>s0001</td>\n",
       "      <td>e0002</td>\n",
       "      <td>s0001</td>\n",
       "      <td>s0001</td>\n",
       "      <td>s0001</td>\n",
       "      <td>s0002</td>\n",
       "    </tr>\n",
       "    <tr>\n",
       "      <th>birth_date</th>\n",
       "      <td>7/25/1953</td>\n",
       "      <td>11/18/1954</td>\n",
       "      <td>1/30/1958</td>\n",
       "      <td>9/28/1957</td>\n",
       "      <td>10/28/1952</td>\n",
       "      <td>10/30/1959</td>\n",
       "      <td>4/14/1957</td>\n",
       "      <td>11/17/1964</td>\n",
       "      <td>12/18/1962</td>\n",
       "      <td>4/24/1956</td>\n",
       "      <td>...</td>\n",
       "      <td>2/2/1963</td>\n",
       "      <td>8/5/1952</td>\n",
       "      <td>12/6/1952</td>\n",
       "      <td>12/6/1952</td>\n",
       "      <td>8/14/1958</td>\n",
       "      <td>5/8/1955</td>\n",
       "      <td>6/9/1959</td>\n",
       "      <td>9/22/1959</td>\n",
       "      <td>9/22/1959</td>\n",
       "      <td>5/31/1964</td>\n",
       "    </tr>\n",
       "    <tr>\n",
       "      <th>first_name</th>\n",
       "      <td>Hideyuki</td>\n",
       "      <td>Byong</td>\n",
       "      <td>Berry</td>\n",
       "      <td>Xiong</td>\n",
       "      <td>Abdelkader</td>\n",
       "      <td>Eran</td>\n",
       "      <td>Christoph</td>\n",
       "      <td>Xudong</td>\n",
       "      <td>Lihong</td>\n",
       "      <td>Kwangyoen</td>\n",
       "      <td>...</td>\n",
       "      <td>Mahmut</td>\n",
       "      <td>Chenyi</td>\n",
       "      <td>Jagoda</td>\n",
       "      <td>Jagoda</td>\n",
       "      <td>Constantino</td>\n",
       "      <td>Yuping</td>\n",
       "      <td>Ortrud</td>\n",
       "      <td>Percy</td>\n",
       "      <td>Percy</td>\n",
       "      <td>Arvind</td>\n",
       "    </tr>\n",
       "    <tr>\n",
       "      <th>last_name</th>\n",
       "      <td>Zallocco</td>\n",
       "      <td>Delgrande</td>\n",
       "      <td>Babb</td>\n",
       "      <td>Verhoeff</td>\n",
       "      <td>Baumann</td>\n",
       "      <td>Cusworth</td>\n",
       "      <td>Parfitt</td>\n",
       "      <td>Samarati</td>\n",
       "      <td>Magliocco</td>\n",
       "      <td>Speek</td>\n",
       "      <td>...</td>\n",
       "      <td>Manders</td>\n",
       "      <td>Orlowska</td>\n",
       "      <td>Molberg</td>\n",
       "      <td>Molberg</td>\n",
       "      <td>Eastman</td>\n",
       "      <td>Dayang</td>\n",
       "      <td>Plessier</td>\n",
       "      <td>Samarati</td>\n",
       "      <td>Samarati</td>\n",
       "      <td>Slobodova</td>\n",
       "    </tr>\n",
       "    <tr>\n",
       "      <th>sex</th>\n",
       "      <td>M</td>\n",
       "      <td>F</td>\n",
       "      <td>F</td>\n",
       "      <td>M</td>\n",
       "      <td>F</td>\n",
       "      <td>M</td>\n",
       "      <td>M</td>\n",
       "      <td>M</td>\n",
       "      <td>M</td>\n",
       "      <td>F</td>\n",
       "      <td>...</td>\n",
       "      <td>M</td>\n",
       "      <td>M</td>\n",
       "      <td>F</td>\n",
       "      <td>F</td>\n",
       "      <td>M</td>\n",
       "      <td>F</td>\n",
       "      <td>M</td>\n",
       "      <td>F</td>\n",
       "      <td>F</td>\n",
       "      <td>M</td>\n",
       "    </tr>\n",
       "    <tr>\n",
       "      <th>hire_date</th>\n",
       "      <td>4/28/1990</td>\n",
       "      <td>9/7/1991</td>\n",
       "      <td>3/21/1992</td>\n",
       "      <td>11/26/1987</td>\n",
       "      <td>1/18/1991</td>\n",
       "      <td>11/14/1986</td>\n",
       "      <td>6/28/1991</td>\n",
       "      <td>11/13/1985</td>\n",
       "      <td>10/23/1993</td>\n",
       "      <td>2/14/1993</td>\n",
       "      <td>...</td>\n",
       "      <td>9/26/1985</td>\n",
       "      <td>12/25/1986</td>\n",
       "      <td>1/2/1987</td>\n",
       "      <td>1/2/1987</td>\n",
       "      <td>10/28/1988</td>\n",
       "      <td>2/26/1995</td>\n",
       "      <td>2/24/1988</td>\n",
       "      <td>9/8/1994</td>\n",
       "      <td>9/8/1994</td>\n",
       "      <td>11/23/1987</td>\n",
       "    </tr>\n",
       "    <tr>\n",
       "      <th>last_performance_rating</th>\n",
       "      <td>A</td>\n",
       "      <td>C</td>\n",
       "      <td>A</td>\n",
       "      <td>C</td>\n",
       "      <td>B</td>\n",
       "      <td>B</td>\n",
       "      <td>A</td>\n",
       "      <td>A</td>\n",
       "      <td>A</td>\n",
       "      <td>B</td>\n",
       "      <td>...</td>\n",
       "      <td>A</td>\n",
       "      <td>A</td>\n",
       "      <td>C</td>\n",
       "      <td>C</td>\n",
       "      <td>C</td>\n",
       "      <td>A</td>\n",
       "      <td>B</td>\n",
       "      <td>B</td>\n",
       "      <td>B</td>\n",
       "      <td>C</td>\n",
       "    </tr>\n",
       "    <tr>\n",
       "      <th>last_date</th>\n",
       "      <td>\\r</td>\n",
       "      <td>\\r</td>\n",
       "      <td>\\r</td>\n",
       "      <td>\\r</td>\n",
       "      <td>\\r</td>\n",
       "      <td>8/21/1993\\r</td>\n",
       "      <td>\\r</td>\n",
       "      <td>8/21/1994\\r</td>\n",
       "      <td>\\r</td>\n",
       "      <td>\\r</td>\n",
       "      <td>...</td>\n",
       "      <td>\\r</td>\n",
       "      <td>\\r</td>\n",
       "      <td>\\r</td>\n",
       "      <td>\\r</td>\n",
       "      <td>\\r</td>\n",
       "      <td>\\r</td>\n",
       "      <td>\\r</td>\n",
       "      <td>\\r</td>\n",
       "      <td>\\r</td>\n",
       "      <td>\\r</td>\n",
       "    </tr>\n",
       "    <tr>\n",
       "      <th>dept_name</th>\n",
       "      <td>\"Finance\"</td>\n",
       "      <td>\"Production\"</td>\n",
       "      <td>\"Production\"</td>\n",
       "      <td>\"Human Resources\"</td>\n",
       "      <td>\"Quality Management\"</td>\n",
       "      <td>\"Quality Management\"</td>\n",
       "      <td>\"Human Resources\"</td>\n",
       "      <td>\"Finance\"</td>\n",
       "      <td>\"Quality Management\"</td>\n",
       "      <td>\"Customer Service\"</td>\n",
       "      <td>...</td>\n",
       "      <td>\"Sales\"</td>\n",
       "      <td>\"Finance\"</td>\n",
       "      <td>\"Research\"</td>\n",
       "      <td>\"development\"</td>\n",
       "      <td>\"Sales\"</td>\n",
       "      <td>\"Production\"</td>\n",
       "      <td>\"Sales\"</td>\n",
       "      <td>\"Sales\"</td>\n",
       "      <td>\"Finance\"</td>\n",
       "      <td>\"Research\"</td>\n",
       "    </tr>\n",
       "    <tr>\n",
       "      <th>title_id</th>\n",
       "      <td>s0001</td>\n",
       "      <td>e0002</td>\n",
       "      <td>e0002</td>\n",
       "      <td>s0001</td>\n",
       "      <td>e0003</td>\n",
       "      <td>e0003</td>\n",
       "      <td>s0001</td>\n",
       "      <td>s0002</td>\n",
       "      <td>e0002</td>\n",
       "      <td>s0002</td>\n",
       "      <td>...</td>\n",
       "      <td>s0001</td>\n",
       "      <td>s0002</td>\n",
       "      <td>e0002</td>\n",
       "      <td>e0002</td>\n",
       "      <td>s0001</td>\n",
       "      <td>e0002</td>\n",
       "      <td>s0001</td>\n",
       "      <td>s0001</td>\n",
       "      <td>s0001</td>\n",
       "      <td>s0002</td>\n",
       "    </tr>\n",
       "    <tr>\n",
       "      <th>title</th>\n",
       "      <td>Staff</td>\n",
       "      <td>Engineer</td>\n",
       "      <td>Engineer</td>\n",
       "      <td>Staff</td>\n",
       "      <td>Senior Engineer</td>\n",
       "      <td>Senior Engineer</td>\n",
       "      <td>Staff</td>\n",
       "      <td>Senior Staff</td>\n",
       "      <td>Engineer</td>\n",
       "      <td>Senior Staff</td>\n",
       "      <td>...</td>\n",
       "      <td>Staff</td>\n",
       "      <td>Senior Staff</td>\n",
       "      <td>Engineer</td>\n",
       "      <td>Engineer</td>\n",
       "      <td>Staff</td>\n",
       "      <td>Engineer</td>\n",
       "      <td>Staff</td>\n",
       "      <td>Staff</td>\n",
       "      <td>Staff</td>\n",
       "      <td>Senior Staff</td>\n",
       "    </tr>\n",
       "  </tbody>\n",
       "</table>\n",
       "<p>12 rows × 331603 columns</p>\n",
       "</div>"
      ],
      "text/plain": [
       "                            0             1             2       \\\n",
       "dept_no                       d002          d004          d004   \n",
       "emp_title_id                 s0001         e0002         e0002   \n",
       "birth_date               7/25/1953    11/18/1954     1/30/1958   \n",
       "first_name                Hideyuki         Byong         Berry   \n",
       "last_name                 Zallocco     Delgrande          Babb   \n",
       "sex                              M             F             F   \n",
       "hire_date                4/28/1990      9/7/1991     3/21/1992   \n",
       "last_performance_rating          A             C             A   \n",
       "last_date                       \\r            \\r            \\r   \n",
       "dept_name                \"Finance\"  \"Production\"  \"Production\"   \n",
       "title_id                     s0001         e0002         e0002   \n",
       "title                        Staff      Engineer      Engineer   \n",
       "\n",
       "                                    3                     4       \\\n",
       "dept_no                               d003                  d006   \n",
       "emp_title_id                         s0001                 e0003   \n",
       "birth_date                       9/28/1957            10/28/1952   \n",
       "first_name                           Xiong            Abdelkader   \n",
       "last_name                         Verhoeff               Baumann   \n",
       "sex                                      M                     F   \n",
       "hire_date                       11/26/1987             1/18/1991   \n",
       "last_performance_rating                  C                     B   \n",
       "last_date                               \\r                    \\r   \n",
       "dept_name                \"Human Resources\"  \"Quality Management\"   \n",
       "title_id                             s0001                 e0003   \n",
       "title                                Staff       Senior Engineer   \n",
       "\n",
       "                                       5                  6       \\\n",
       "dept_no                                  d006               d003   \n",
       "emp_title_id                            e0003              s0001   \n",
       "birth_date                         10/30/1959          4/14/1957   \n",
       "first_name                               Eran          Christoph   \n",
       "last_name                            Cusworth            Parfitt   \n",
       "sex                                         M                  M   \n",
       "hire_date                          11/14/1986          6/28/1991   \n",
       "last_performance_rating                     B                  A   \n",
       "last_date                         8/21/1993\\r                 \\r   \n",
       "dept_name                \"Quality Management\"  \"Human Resources\"   \n",
       "title_id                                e0003              s0001   \n",
       "title                         Senior Engineer              Staff   \n",
       "\n",
       "                               7                     8       \\\n",
       "dept_no                          d002                  d006   \n",
       "emp_title_id                    s0002                 e0002   \n",
       "birth_date                 11/17/1964            12/18/1962   \n",
       "first_name                     Xudong                Lihong   \n",
       "last_name                    Samarati             Magliocco   \n",
       "sex                                 M                     M   \n",
       "hire_date                  11/13/1985            10/23/1993   \n",
       "last_performance_rating             A                     A   \n",
       "last_date                 8/21/1994\\r                    \\r   \n",
       "dept_name                   \"Finance\"  \"Quality Management\"   \n",
       "title_id                        s0002                 e0002   \n",
       "title                    Senior Staff              Engineer   \n",
       "\n",
       "                                     9       ...     331593        331594  \\\n",
       "dept_no                                d009  ...       d007          d002   \n",
       "emp_title_id                          s0002  ...      s0001         s0002   \n",
       "birth_date                        4/24/1956  ...   2/2/1963      8/5/1952   \n",
       "first_name                        Kwangyoen  ...     Mahmut        Chenyi   \n",
       "last_name                             Speek  ...    Manders      Orlowska   \n",
       "sex                                       F  ...          M             M   \n",
       "hire_date                         2/14/1993  ...  9/26/1985    12/25/1986   \n",
       "last_performance_rating                   B  ...          A             A   \n",
       "last_date                                \\r  ...         \\r            \\r   \n",
       "dept_name                \"Customer Service\"  ...    \"Sales\"     \"Finance\"   \n",
       "title_id                              s0002  ...      s0001         s0002   \n",
       "title                          Senior Staff  ...      Staff  Senior Staff   \n",
       "\n",
       "                             331595         331596       331597        331598  \\\n",
       "dept_no                        d008           d005         d007          d004   \n",
       "emp_title_id                  e0002          e0002        s0001         e0002   \n",
       "birth_date                12/6/1952      12/6/1952    8/14/1958      5/8/1955   \n",
       "first_name                   Jagoda         Jagoda  Constantino        Yuping   \n",
       "last_name                   Molberg        Molberg      Eastman        Dayang   \n",
       "sex                               F              F            M             F   \n",
       "hire_date                  1/2/1987       1/2/1987   10/28/1988     2/26/1995   \n",
       "last_performance_rating           C              C            C             A   \n",
       "last_date                        \\r             \\r           \\r            \\r   \n",
       "dept_name                \"Research\"  \"development\"      \"Sales\"  \"Production\"   \n",
       "title_id                      e0002          e0002        s0001         e0002   \n",
       "title                      Engineer       Engineer        Staff      Engineer   \n",
       "\n",
       "                            331599     331600     331601        331602  \n",
       "dept_no                       d007       d007       d002          d008  \n",
       "emp_title_id                 s0001      s0001      s0001         s0002  \n",
       "birth_date                6/9/1959  9/22/1959  9/22/1959     5/31/1964  \n",
       "first_name                  Ortrud      Percy      Percy        Arvind  \n",
       "last_name                 Plessier   Samarati   Samarati     Slobodova  \n",
       "sex                              M          F          F             M  \n",
       "hire_date                2/24/1988   9/8/1994   9/8/1994    11/23/1987  \n",
       "last_performance_rating          B          B          B             C  \n",
       "last_date                       \\r         \\r         \\r            \\r  \n",
       "dept_name                  \"Sales\"    \"Sales\"  \"Finance\"    \"Research\"  \n",
       "title_id                     s0001      s0001      s0001         s0002  \n",
       "title                        Staff      Staff      Staff  Senior Staff  \n",
       "\n",
       "[12 rows x 331603 columns]"
      ]
     },
     "execution_count": 273,
     "metadata": {},
     "output_type": "execute_result"
    }
   ],
   "source": [
    "data.select(categorical_features).toPandas().transpose()"
   ]
  },
  {
   "cell_type": "code",
   "execution_count": 274,
   "metadata": {},
   "outputs": [],
   "source": [
    "data_new = data.drop('birth_date','hire_date','last_date','title_id','emp_title_id','dept_name','first_name','last_name')"
   ]
  },
  {
   "cell_type": "code",
   "execution_count": 275,
   "metadata": {},
   "outputs": [
    {
     "name": "stdout",
     "output_type": "stream",
     "text": [
      "+------+-------+---+--------------+-----------------------+-----+------+----------------+\n",
      "|emp_no|dept_no|sex|no_of_projects|last_performance_rating|left1|salary|           title|\n",
      "+------+-------+---+--------------+-----------------------+-----+------+----------------+\n",
      "|473302|   d002|  M|             2|                      A|    0| 40000|           Staff|\n",
      "|475053|   d004|  F|             1|                      C|    0| 53422|        Engineer|\n",
      "| 57444|   d004|  F|             9|                      A|    0| 48973|        Engineer|\n",
      "|421786|   d003|  M|             2|                      C|    0| 40000|           Staff|\n",
      "|282238|   d006|  F|             6|                      B|    0| 40000| Senior Engineer|\n",
      "|263976|   d006|  M|             8|                      B|    1| 40000| Senior Engineer|\n",
      "|273487|   d003|  M|            10|                      A|    0| 56087|           Staff|\n",
      "|461591|   d002|  M|             2|                      A|    1| 40000|    Senior Staff|\n",
      "|477657|   d006|  M|             5|                      A|    0| 54816|        Engineer|\n",
      "|219881|   d009|  F|             6|                      B|    0| 40000|    Senior Staff|\n",
      "| 29920|   d004|  F|             1|                    PIP|    0| 40000|        Engineer|\n",
      "|208153|   d005|  M|             8|                      C|    1| 50183| Senior Engineer|\n",
      "| 13616|   d008|  F|             7|                      C|    0| 40000| Senior Engineer|\n",
      "| 13616|   d005|  F|             7|                      C|    0| 40000| Senior Engineer|\n",
      "|246449|   d007|  F|             9|                      C|    0| 87084|           Staff|\n",
      "| 21529|   d005|  M|             7|                      C|    0| 40000|        Engineer|\n",
      "| 17934|   d005|  M|             7|                      C|    0| 48795|Technique Leader|\n",
      "| 48085|   d002|  M|             9|                      B|    0| 63016|           Staff|\n",
      "|239838|   d004|  M|             3|                      A|    0| 57715|        Engineer|\n",
      "|240129|   d006|  M|            10|                      C|    0| 43548|Technique Leader|\n",
      "+------+-------+---+--------------+-----------------------+-----+------+----------------+\n",
      "only showing top 20 rows\n",
      "\n"
     ]
    }
   ],
   "source": [
    "data_new.show()"
   ]
  },
  {
   "cell_type": "code",
   "execution_count": 276,
   "metadata": {},
   "outputs": [
    {
     "data": {
      "text/plain": [
       "['emp_no',\n",
       " 'dept_no',\n",
       " 'sex',\n",
       " 'no_of_projects',\n",
       " 'last_performance_rating',\n",
       " 'left1',\n",
       " 'salary',\n",
       " 'title']"
      ]
     },
     "execution_count": 276,
     "metadata": {},
     "output_type": "execute_result"
    }
   ],
   "source": [
    "data_new.columns"
   ]
  },
  {
   "cell_type": "code",
   "execution_count": 277,
   "metadata": {},
   "outputs": [
    {
     "data": {
      "text/plain": [
       "['dept_no', 'sex', 'last_performance_rating', 'title']"
      ]
     },
     "execution_count": 277,
     "metadata": {},
     "output_type": "execute_result"
    }
   ],
   "source": [
    "categorical_features1 = [t[0] for t in data_new.dtypes if t[1] == 'string']\n",
    "categorical_features1"
   ]
  },
  {
   "cell_type": "code",
   "execution_count": 278,
   "metadata": {},
   "outputs": [],
   "source": [
    "from pyspark.ml.feature import OneHotEncoder, StringIndexer, VectorAssembler, PolynomialExpansion, VectorIndexer"
   ]
  },
  {
   "cell_type": "code",
   "execution_count": 279,
   "metadata": {},
   "outputs": [],
   "source": [
    "# create object of StringIndexer class and specify input and output column\n",
    "SI_dept_no = StringIndexer(inputCol='dept_no',outputCol='dept_no_Index')\n",
    "SI_sex = StringIndexer(inputCol='sex',outputCol='sex_Index')\n",
    "SI_last_performance_rating = StringIndexer(inputCol='last_performance_rating',outputCol='last_performance_rating_Index')\n",
    "SI_title=StringIndexer(inputCol='title',outputCol='title_Index')\n",
    "\n",
    "# transform the data\n",
    "data_new = SI_dept_no.fit(data_new).transform(data_new)\n",
    "data_new = SI_sex.fit(data_new).transform(data_new)\n",
    "data_new = SI_last_performance_rating.fit(data_new).transform(data_new)\n",
    "data_new = SI_title.fit(data_new).transform(data_new)\n"
   ]
  },
  {
   "cell_type": "code",
   "execution_count": 280,
   "metadata": {},
   "outputs": [],
   "source": [
    "cat_f=['dept_no_Index','emp_title_id_Index','last_performance_rating_Index','dept_name_Index','title_Index','salary']"
   ]
  },
  {
   "cell_type": "code",
   "execution_count": 281,
   "metadata": {},
   "outputs": [
    {
     "data": {
      "text/plain": [
       "['emp_no',\n",
       " 'dept_no',\n",
       " 'sex',\n",
       " 'no_of_projects',\n",
       " 'last_performance_rating',\n",
       " 'left1',\n",
       " 'salary',\n",
       " 'title',\n",
       " 'dept_no_Index',\n",
       " 'sex_Index',\n",
       " 'last_performance_rating_Index',\n",
       " 'title_Index']"
      ]
     },
     "execution_count": 281,
     "metadata": {},
     "output_type": "execute_result"
    }
   ],
   "source": [
    "data_new.columns"
   ]
  },
  {
   "cell_type": "code",
   "execution_count": 282,
   "metadata": {},
   "outputs": [],
   "source": [
    "# create object and specify input and output column\n",
    "#OHE = OneHotEncoder(inputCols=['dept_no_Index','emp_title_id_Index','first_name_Index','last_name_Index','sex_Index','last_performance_rating_Index','dept_name_Index','title_Index'],outputCols=['Manufacturer_vec', 'Model_vec'])\n",
    "\n",
    "encoder=OneHotEncoder(inputCol='dept_no_Index',outputCol=\"dept_no_Index_V\")\n",
    "data_new = encoder.transform(data_new)"
   ]
  },
  {
   "cell_type": "code",
   "execution_count": 283,
   "metadata": {},
   "outputs": [],
   "source": [
    "encoder=OneHotEncoder(inputCol='sex_Index',outputCol='sex_Index_V')\n",
    "data_new = encoder.transform(data_new)"
   ]
  },
  {
   "cell_type": "code",
   "execution_count": 284,
   "metadata": {},
   "outputs": [],
   "source": [
    "encoder=OneHotEncoder(inputCol='last_performance_rating_Index',outputCol='last_performance_rating_Index_V')\n",
    "data_new = encoder.transform(data_new)"
   ]
  },
  {
   "cell_type": "code",
   "execution_count": 285,
   "metadata": {},
   "outputs": [],
   "source": [
    "encoder=OneHotEncoder(inputCol='title_Index',outputCol='title_Index_V')\n",
    "data_new = encoder.transform(data_new)"
   ]
  },
  {
   "cell_type": "code",
   "execution_count": 286,
   "metadata": {},
   "outputs": [],
   "source": [
    "featureCols = ['dept_no_Index_V',\n",
    " 'sex_Index_V',\n",
    " 'no_of_projects',\n",
    " 'last_performance_rating_Index_V',\n",
    " 'title_Index_V',\n",
    " 'salary']"
   ]
  },
  {
   "cell_type": "code",
   "execution_count": 287,
   "metadata": {},
   "outputs": [
    {
     "data": {
      "text/plain": [
       "['dept_no_Index_V',\n",
       " 'sex_Index_V',\n",
       " 'no_of_projects',\n",
       " 'last_performance_rating_Index_V',\n",
       " 'title_Index_V',\n",
       " 'salary']"
      ]
     },
     "execution_count": 287,
     "metadata": {},
     "output_type": "execute_result"
    }
   ],
   "source": [
    "featureCols"
   ]
  },
  {
   "cell_type": "code",
   "execution_count": 288,
   "metadata": {},
   "outputs": [],
   "source": [
    "assembler = VectorAssembler( inputCols = featureCols, outputCol = \"features\")"
   ]
  },
  {
   "cell_type": "code",
   "execution_count": 289,
   "metadata": {},
   "outputs": [],
   "source": [
    "data_train_df = assembler.transform(data_new)"
   ]
  },
  {
   "cell_type": "code",
   "execution_count": 290,
   "metadata": {},
   "outputs": [
    {
     "name": "stdout",
     "output_type": "stream",
     "text": [
      "+------+-------+---+--------------+-----------------------+-----+------+---------------+-------------+---------+-----------------------------+-----------+---------------+-------------+-------------------------------+-------------+----------------------------------------------------+\n",
      "|emp_no|dept_no|sex|no_of_projects|last_performance_rating|left1|salary|title          |dept_no_Index|sex_Index|last_performance_rating_Index|title_Index|dept_no_Index_V|sex_Index_V  |last_performance_rating_Index_V|title_Index_V|features                                            |\n",
      "+------+-------+---+--------------+-----------------------+-----+------+---------------+-------------+---------+-----------------------------+-----------+---------------+-------------+-------------------------------+-------------+----------------------------------------------------+\n",
      "|473302|d002   |M  |2             |A                      |0    |40000 |Staff          |8.0          |0.0      |1.0                          |0.0        |(8,[],[])      |(1,[0],[1.0])|(4,[1],[1.0])                  |(6,[0],[1.0])|(21,[8,9,11,14,20],[1.0,2.0,1.0,1.0,40000.0])       |\n",
      "|475053|d004   |F  |1             |C                      |0    |53422 |Engineer       |1.0          |1.0      |2.0                          |2.0        |(8,[1],[1.0])  |(1,[],[])    |(4,[2],[1.0])                  |(6,[2],[1.0])|(21,[1,9,12,16,20],[1.0,1.0,1.0,1.0,53422.0])       |\n",
      "|57444 |d004   |F  |9             |A                      |0    |48973 |Engineer       |1.0          |1.0      |1.0                          |2.0        |(8,[1],[1.0])  |(1,[],[])    |(4,[1],[1.0])                  |(6,[2],[1.0])|(21,[1,9,11,16,20],[1.0,9.0,1.0,1.0,48973.0])       |\n",
      "|421786|d003   |M  |2             |C                      |0    |40000 |Staff          |7.0          |0.0      |2.0                          |0.0        |(8,[7],[1.0])  |(1,[0],[1.0])|(4,[2],[1.0])                  |(6,[0],[1.0])|(21,[7,8,9,12,14,20],[1.0,1.0,2.0,1.0,1.0,40000.0]) |\n",
      "|282238|d006   |F  |6             |B                      |0    |40000 |Senior Engineer|6.0          |1.0      |0.0                          |1.0        |(8,[6],[1.0])  |(1,[],[])    |(4,[0],[1.0])                  |(6,[1],[1.0])|(21,[6,9,10,15,20],[1.0,6.0,1.0,1.0,40000.0])       |\n",
      "|263976|d006   |M  |8             |B                      |1    |40000 |Senior Engineer|6.0          |0.0      |0.0                          |1.0        |(8,[6],[1.0])  |(1,[0],[1.0])|(4,[0],[1.0])                  |(6,[1],[1.0])|(21,[6,8,9,10,15,20],[1.0,1.0,8.0,1.0,1.0,40000.0]) |\n",
      "|273487|d003   |M  |10            |A                      |0    |56087 |Staff          |7.0          |0.0      |1.0                          |0.0        |(8,[7],[1.0])  |(1,[0],[1.0])|(4,[1],[1.0])                  |(6,[0],[1.0])|(21,[7,8,9,11,14,20],[1.0,1.0,10.0,1.0,1.0,56087.0])|\n",
      "|461591|d002   |M  |2             |A                      |1    |40000 |Senior Staff   |8.0          |0.0      |1.0                          |3.0        |(8,[],[])      |(1,[0],[1.0])|(4,[1],[1.0])                  |(6,[3],[1.0])|(21,[8,9,11,17,20],[1.0,2.0,1.0,1.0,40000.0])       |\n",
      "|477657|d006   |M  |5             |A                      |0    |54816 |Engineer       |6.0          |0.0      |1.0                          |2.0        |(8,[6],[1.0])  |(1,[0],[1.0])|(4,[1],[1.0])                  |(6,[2],[1.0])|(21,[6,8,9,11,16,20],[1.0,1.0,5.0,1.0,1.0,54816.0]) |\n",
      "|219881|d009   |F  |6             |B                      |0    |40000 |Senior Staff   |3.0          |1.0      |0.0                          |3.0        |(8,[3],[1.0])  |(1,[],[])    |(4,[0],[1.0])                  |(6,[3],[1.0])|(21,[3,9,10,17,20],[1.0,6.0,1.0,1.0,40000.0])       |\n",
      "+------+-------+---+--------------+-----------------------+-----+------+---------------+-------------+---------+-----------------------------+-----------+---------------+-------------+-------------------------------+-------------+----------------------------------------------------+\n",
      "only showing top 10 rows\n",
      "\n"
     ]
    }
   ],
   "source": [
    "data_train_df.show( 10 , truncate=False)"
   ]
  },
  {
   "cell_type": "code",
   "execution_count": 291,
   "metadata": {},
   "outputs": [],
   "source": [
    "# Setting the target variables - left1\n",
    "data_train_df = data_train_df.withColumn( \"label\", data_new.left1)"
   ]
  },
  {
   "cell_type": "code",
   "execution_count": 292,
   "metadata": {},
   "outputs": [],
   "source": [
    "#Split the dataset\n",
    "train_df, test_df = data_train_df.randomSplit( [0.7, 0.3], seed = 42 )"
   ]
  },
  {
   "cell_type": "code",
   "execution_count": 293,
   "metadata": {},
   "outputs": [
    {
     "name": "stdout",
     "output_type": "stream",
     "text": [
      "+------+-------+---+--------------+-----------------------+-----+------+------------------+-------------+---------+-----------------------------+-----------+---------------+-------------+-------------------------------+-------------+---------------------------------------------------+-----+\n",
      "|emp_no|dept_no|sex|no_of_projects|last_performance_rating|left1|salary|title             |dept_no_Index|sex_Index|last_performance_rating_Index|title_Index|dept_no_Index_V|sex_Index_V  |last_performance_rating_Index_V|title_Index_V|features                                           |label|\n",
      "+------+-------+---+--------------+-----------------------+-----+------+------------------+-------------+---------+-----------------------------+-----------+---------------+-------------+-------------------------------+-------------+---------------------------------------------------+-----+\n",
      "|10001 |d005   |M  |9             |C                      |1    |60117 |Senior Engineer   |0.0          |0.0      |2.0                          |1.0        |(8,[0],[1.0])  |(1,[0],[1.0])|(4,[2],[1.0])                  |(6,[1],[1.0])|(21,[0,8,9,12,15,20],[1.0,1.0,9.0,1.0,1.0,60117.0])|1    |\n",
      "|10005 |d003   |M  |6             |A                      |0    |78228 |Staff             |7.0          |0.0      |1.0                          |0.0        |(8,[7],[1.0])  |(1,[0],[1.0])|(4,[1],[1.0])                  |(6,[0],[1.0])|(21,[7,8,9,11,14,20],[1.0,1.0,6.0,1.0,1.0,78228.0])|0    |\n",
      "|10006 |d005   |F  |10            |B                      |0    |40000 |Senior Engineer   |0.0          |1.0      |0.0                          |1.0        |(8,[0],[1.0])  |(1,[],[])    |(4,[0],[1.0])                  |(6,[1],[1.0])|(21,[0,9,10,15,20],[1.0,10.0,1.0,1.0,40000.0])     |0    |\n",
      "|10007 |d008   |F  |6             |B                      |1    |56724 |Staff             |4.0          |1.0      |0.0                          |0.0        |(8,[4],[1.0])  |(1,[],[])    |(4,[0],[1.0])                  |(6,[0],[1.0])|(21,[4,9,10,14,20],[1.0,6.0,1.0,1.0,56724.0])      |1    |\n",
      "|10008 |d005   |M  |9             |C                      |0    |46671 |Assistant Engineer|0.0          |0.0      |2.0                          |5.0        |(8,[0],[1.0])  |(1,[0],[1.0])|(4,[2],[1.0])                  |(6,[5],[1.0])|(21,[0,8,9,12,19,20],[1.0,1.0,9.0,1.0,1.0,46671.0])|0    |\n",
      "+------+-------+---+--------------+-----------------------+-----+------+------------------+-------------+---------+-----------------------------+-----------+---------------+-------------+-------------------------------+-------------+---------------------------------------------------+-----+\n",
      "only showing top 5 rows\n",
      "\n"
     ]
    }
   ],
   "source": [
    "train_df.show(5, truncate=False)"
   ]
  },
  {
   "cell_type": "markdown",
   "metadata": {},
   "source": [
    "# Logistic Regression"
   ]
  },
  {
   "cell_type": "code",
   "execution_count": 294,
   "metadata": {},
   "outputs": [],
   "source": [
    "#import the logistic regression \n",
    "from pyspark.ml.classification import LogisticRegression"
   ]
  },
  {
   "cell_type": "code",
   "execution_count": 295,
   "metadata": {},
   "outputs": [],
   "source": [
    "#Apply the logistic regression model\n",
    "log_reg=LogisticRegression(labelCol='left1').fit(train_df)"
   ]
  },
  {
   "cell_type": "code",
   "execution_count": 296,
   "metadata": {},
   "outputs": [
    {
     "name": "stdout",
     "output_type": "stream",
     "text": [
      "Accuracy_train :  0.900016337199804\n"
     ]
    }
   ],
   "source": [
    "accuracy_train = train_results.filter(train_results.label == train_results.prediction).count() / float(train_results.count())\n",
    "print(\"Accuracy_train : \",accuracy_train)"
   ]
  },
  {
   "cell_type": "code",
   "execution_count": 297,
   "metadata": {},
   "outputs": [
    {
     "name": "stdout",
     "output_type": "stream",
     "text": [
      "+--------------------+-----+----------+\n",
      "|            features|label|prediction|\n",
      "+--------------------+-----+----------+\n",
      "|(21,[2,9,10,14,20...|    0|       0.0|\n",
      "|(21,[1,8,9,12,15,...|    0|       0.0|\n",
      "|(21,[1,8,9,11,15,...|    0|       0.0|\n",
      "|(21,[7,8,9,12,17,...|    0|       0.0|\n",
      "|(21,[2,8,9,12,14,...|    0|       0.0|\n",
      "|(21,[0,8,9,12,18,...|    0|       0.0|\n",
      "|(21,[0,9,10,15,20...|    0|       0.0|\n",
      "|(21,[0,8,9,10,16,...|    0|       0.0|\n",
      "|(21,[1,9,12,15,20...|    0|       0.0|\n",
      "|(21,[6,8,9,11,18,...|    0|       0.0|\n",
      "|(21,[1,8,9,12,15,...|    1|       0.0|\n",
      "|(21,[0,8,9,10,16,...|    0|       0.0|\n",
      "|(21,[8,9,12,14,20...|    0|       0.0|\n",
      "|(21,[1,8,9,11,15,...|    0|       0.0|\n",
      "|(21,[5,8,9,11,14,...|    0|       0.0|\n",
      "|(21,[9,12,17,20],...|    0|       0.0|\n",
      "|(21,[3,8,9,11,14,...|    0|       0.0|\n",
      "|(21,[1,9,11,15,20...|    0|       0.0|\n",
      "|(21,[4,8,9,11,18,...|    0|       0.0|\n",
      "|(21,[0,9,10,15,20...|    0|       0.0|\n",
      "|(21,[0,9,11,16,20...|    0|       0.0|\n",
      "|(21,[7,8,9,11,14,...|    0|       0.0|\n",
      "|(21,[1,8,9,11,15,...|    0|       0.0|\n",
      "|(21,[1,8,9,11,15,...|    0|       0.0|\n",
      "|(21,[0,8,9,11,15,...|    0|       0.0|\n",
      "|(21,[3,9,12,14,20...|    0|       0.0|\n",
      "|(21,[3,8,9,11,14,...|    0|       0.0|\n",
      "|(21,[4,9,11,15,20...|    0|       0.0|\n",
      "|(21,[1,8,9,12,16,...|    0|       0.0|\n",
      "|(21,[1,8,9,11,16,...|    0|       0.0|\n",
      "|(21,[1,8,9,12,15,...|    0|       0.0|\n",
      "|(21,[2,9,12,14,20...|    0|       0.0|\n",
      "|(21,[3,8,9,11,14,...|    0|       0.0|\n",
      "|(21,[0,9,11,15,20...|    1|       0.0|\n",
      "|(21,[3,9,12,14,20...|    0|       0.0|\n",
      "|(21,[0,8,9,10,18,...|    0|       0.0|\n",
      "|(21,[4,9,13,17,20...|    1|       0.0|\n",
      "|(21,[0,8,9,12,15,...|    0|       0.0|\n",
      "|(21,[7,8,9,11,14,...|    0|       0.0|\n",
      "|(21,[8,9,11,14,20...|    0|       0.0|\n",
      "|(21,[0,8,9,11,19,...|    0|       0.0|\n",
      "|(21,[4,8,9,13,14,...|    0|       0.0|\n",
      "|(21,[0,8,9,12,15,...|    0|       0.0|\n",
      "|(21,[1,8,9,11,15,...|    1|       0.0|\n",
      "|(21,[6,8,9,10,15,...|    0|       0.0|\n",
      "|(21,[1,9,11,16,20...|    0|       0.0|\n",
      "|(21,[1,8,9,12,16,...|    0|       0.0|\n",
      "|(21,[1,9,12,16,20...|    0|       0.0|\n",
      "|(21,[3,9,10,14,20...|    0|       0.0|\n",
      "|(21,[8,9,13,14,20...|    0|       0.0|\n",
      "+--------------------+-----+----------+\n",
      "only showing top 50 rows\n",
      "\n"
     ]
    }
   ],
   "source": [
    "#Predicting on test dataset\n",
    "y_pred = log_reg.transform( test_df )\n",
    "y_pred.select( 'features', 'label', 'prediction').show(50)"
   ]
  },
  {
   "cell_type": "code",
   "execution_count": 298,
   "metadata": {},
   "outputs": [
    {
     "name": "stdout",
     "output_type": "stream",
     "text": [
      "Test Area Under ROC 0.5040987173246295\n"
     ]
    }
   ],
   "source": [
    "from pyspark.ml.evaluation import BinaryClassificationEvaluator\n",
    "evaluator = BinaryClassificationEvaluator()\n",
    "print('Test Area Under ROC', evaluator.evaluate(y_pred))"
   ]
  },
  {
   "cell_type": "code",
   "execution_count": 299,
   "metadata": {},
   "outputs": [
    {
     "name": "stdout",
     "output_type": "stream",
     "text": [
      "Accuracy_test :  0.9013686177465785\n"
     ]
    }
   ],
   "source": [
    "accuracy_test = y_pred.filter(y_pred.label == y_pred.prediction).count() / float(y_pred.count())\n",
    "print(\"Accuracy_test : \",accuracy_test)"
   ]
  },
  {
   "cell_type": "markdown",
   "metadata": {},
   "source": [
    "# Decision Tree Classifier"
   ]
  },
  {
   "cell_type": "code",
   "execution_count": 300,
   "metadata": {},
   "outputs": [
    {
     "name": "stdout",
     "output_type": "stream",
     "text": [
      "+--------------------+-----+----------+--------------------+\n",
      "|            features|label|prediction|         probability|\n",
      "+--------------------+-----+----------+--------------------+\n",
      "|(21,[2,9,10,14,20...|    0|       0.0|[0.90001633719980...|\n",
      "|(21,[1,8,9,12,15,...|    0|       0.0|[0.90001633719980...|\n",
      "|(21,[1,8,9,11,15,...|    0|       0.0|[0.90001633719980...|\n",
      "|(21,[7,8,9,12,17,...|    0|       0.0|[0.90001633719980...|\n",
      "|(21,[2,8,9,12,14,...|    0|       0.0|[0.90001633719980...|\n",
      "|(21,[0,8,9,12,18,...|    0|       0.0|[0.90001633719980...|\n",
      "|(21,[0,9,10,15,20...|    0|       0.0|[0.90001633719980...|\n",
      "|(21,[0,8,9,10,16,...|    0|       0.0|[0.90001633719980...|\n",
      "|(21,[1,9,12,15,20...|    0|       0.0|[0.90001633719980...|\n",
      "|(21,[6,8,9,11,18,...|    0|       0.0|[0.90001633719980...|\n",
      "|(21,[1,8,9,12,15,...|    1|       0.0|[0.90001633719980...|\n",
      "|(21,[0,8,9,10,16,...|    0|       0.0|[0.90001633719980...|\n",
      "|(21,[8,9,12,14,20...|    0|       0.0|[0.90001633719980...|\n",
      "|(21,[1,8,9,11,15,...|    0|       0.0|[0.90001633719980...|\n",
      "|(21,[5,8,9,11,14,...|    0|       0.0|[0.90001633719980...|\n",
      "|(21,[9,12,17,20],...|    0|       0.0|[0.90001633719980...|\n",
      "|(21,[3,8,9,11,14,...|    0|       0.0|[0.90001633719980...|\n",
      "|(21,[1,9,11,15,20...|    0|       0.0|[0.90001633719980...|\n",
      "|(21,[4,8,9,11,18,...|    0|       0.0|[0.90001633719980...|\n",
      "|(21,[0,9,10,15,20...|    0|       0.0|[0.90001633719980...|\n",
      "|(21,[0,9,11,16,20...|    0|       0.0|[0.90001633719980...|\n",
      "|(21,[7,8,9,11,14,...|    0|       0.0|[0.90001633719980...|\n",
      "|(21,[1,8,9,11,15,...|    0|       0.0|[0.90001633719980...|\n",
      "|(21,[1,8,9,11,15,...|    0|       0.0|[0.90001633719980...|\n",
      "|(21,[0,8,9,11,15,...|    0|       0.0|[0.90001633719980...|\n",
      "|(21,[3,9,12,14,20...|    0|       0.0|[0.90001633719980...|\n",
      "|(21,[3,8,9,11,14,...|    0|       0.0|[0.90001633719980...|\n",
      "|(21,[4,9,11,15,20...|    0|       0.0|[0.90001633719980...|\n",
      "|(21,[1,8,9,12,16,...|    0|       0.0|[0.90001633719980...|\n",
      "|(21,[1,8,9,11,16,...|    0|       0.0|[0.90001633719980...|\n",
      "|(21,[1,8,9,12,15,...|    0|       0.0|[0.90001633719980...|\n",
      "|(21,[2,9,12,14,20...|    0|       0.0|[0.90001633719980...|\n",
      "|(21,[3,8,9,11,14,...|    0|       0.0|[0.90001633719980...|\n",
      "|(21,[0,9,11,15,20...|    1|       0.0|[0.90001633719980...|\n",
      "|(21,[3,9,12,14,20...|    0|       0.0|[0.90001633719980...|\n",
      "|(21,[0,8,9,10,18,...|    0|       0.0|[0.90001633719980...|\n",
      "|(21,[4,9,13,17,20...|    1|       0.0|[0.90001633719980...|\n",
      "|(21,[0,8,9,12,15,...|    0|       0.0|[0.90001633719980...|\n",
      "|(21,[7,8,9,11,14,...|    0|       0.0|[0.90001633719980...|\n",
      "|(21,[8,9,11,14,20...|    0|       0.0|[0.90001633719980...|\n",
      "|(21,[0,8,9,11,19,...|    0|       0.0|[0.90001633719980...|\n",
      "|(21,[4,8,9,13,14,...|    0|       0.0|[0.90001633719980...|\n",
      "|(21,[0,8,9,12,15,...|    0|       0.0|[0.90001633719980...|\n",
      "|(21,[1,8,9,11,15,...|    1|       0.0|[0.90001633719980...|\n",
      "|(21,[6,8,9,10,15,...|    0|       0.0|[0.90001633719980...|\n",
      "|(21,[1,9,11,16,20...|    0|       0.0|[0.90001633719980...|\n",
      "|(21,[1,8,9,12,16,...|    0|       0.0|[0.90001633719980...|\n",
      "|(21,[1,9,12,16,20...|    0|       0.0|[0.90001633719980...|\n",
      "|(21,[3,9,10,14,20...|    0|       0.0|[0.90001633719980...|\n",
      "|(21,[8,9,13,14,20...|    0|       0.0|[0.90001633719980...|\n",
      "+--------------------+-----+----------+--------------------+\n",
      "only showing top 50 rows\n",
      "\n"
     ]
    }
   ],
   "source": [
    "from pyspark.ml.classification import DecisionTreeClassifier\n",
    "dt = DecisionTreeClassifier(featuresCol = 'features', labelCol = 'label', maxDepth = 3)\n",
    "dtModel = dt.fit(train_df)\n",
    "predictions = dtModel.transform(test_df)\n",
    "predictions.select('features', 'label', 'prediction', 'probability').show(50)"
   ]
  },
  {
   "cell_type": "code",
   "execution_count": 301,
   "metadata": {},
   "outputs": [
    {
     "name": "stdout",
     "output_type": "stream",
     "text": [
      "Test Area Under ROC: 0.5\n"
     ]
    }
   ],
   "source": [
    "evaluator = BinaryClassificationEvaluator()\n",
    "print(\"Test Area Under ROC: \" + str(evaluator.evaluate(predictions, {evaluator.metricName: \"areaUnderROC\"})))"
   ]
  },
  {
   "cell_type": "code",
   "execution_count": 302,
   "metadata": {},
   "outputs": [
    {
     "name": "stdout",
     "output_type": "stream",
     "text": [
      "Accuracy_test_dt :  0.9013686177465785\n"
     ]
    }
   ],
   "source": [
    "accuracy_test_dt = predictions.filter(predictions.label == predictions.prediction).count() / float(predictions.count())\n",
    "print(\"Accuracy_test_dt : \",accuracy_test_dt)"
   ]
  }
 ],
 "metadata": {
  "kernelspec": {
   "display_name": "Python 3",
   "language": "python",
   "name": "python3"
  },
  "language_info": {
   "codemirror_mode": {
    "name": "ipython",
    "version": 3
   },
   "file_extension": ".py",
   "mimetype": "text/x-python",
   "name": "python",
   "nbconvert_exporter": "python",
   "pygments_lexer": "ipython3",
   "version": "3.7.6"
  }
 },
 "nbformat": 4,
 "nbformat_minor": 4
}
